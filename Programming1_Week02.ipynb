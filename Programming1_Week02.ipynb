{
  "nbformat": 4,
  "nbformat_minor": 0,
  "metadata": {
    "colab": {
      "name": "Programming1_Week02.ipynb",
      "provenance": [],
      "collapsed_sections": [],
      "toc_visible": true,
      "include_colab_link": true
    },
    "kernelspec": {
      "display_name": "Python 3",
      "language": "python",
      "name": "python3"
    },
    "language_info": {
      "codemirror_mode": {
        "name": "ipython",
        "version": 3
      },
      "file_extension": ".py",
      "mimetype": "text/x-python",
      "name": "python",
      "nbconvert_exporter": "python",
      "pygments_lexer": "ipython3",
      "version": "3.8.5"
    }
  },
  "cells": [
    {
      "cell_type": "markdown",
      "metadata": {
        "id": "view-in-github",
        "colab_type": "text"
      },
      "source": [
        "<a href=\"https://colab.research.google.com/github/doi-shigeo/KMITL-CE-Programming1/blob/main/Programming1_Week02.ipynb\" target=\"_parent\"><img src=\"https://colab.research.google.com/assets/colab-badge.svg\" alt=\"Open In Colab\"/></a>"
      ]
    },
    {
      "cell_type": "markdown",
      "metadata": {
        "id": "xQKSdkeAkqaq"
      },
      "source": [
        "# 2nd Week\n",
        "First of all, please don't forget to make a copy to your Google Drive.\n",
        "\n",
        "If you download the material from GitHub, you can see \"Copy to Drive\" button above.\n",
        "Please click it and change the filename: \n",
        "\n",
        "\"Copy of Programming1_WeekNN.ipynb\" into \"XXnickname_Programming1_WeekNN.ipynb\" before starting, where XX is last 2 digits of your ID and NN is the number of weeks.\n",
        "For example, last 2 digit of your ID is 49 and nickname is \"Shigeo\", \n",
        "the filename is \"49Shigeo_Programming1_Week02.ipynb\""
      ]
    },
    {
      "cell_type": "markdown",
      "metadata": {
        "id": "XaJfrzieMVZX"
      },
      "source": [
        "## Escaping"
      ]
    },
    {
      "cell_type": "markdown",
      "metadata": {
        "id": "oXx66sDlQleF"
      },
      "source": [
        "### Quote a string \n",
        "To quote a string, you can use either \" (double-quote) or ' (single-quote).\n",
        "\n",
        "#### Practice\n",
        "Change the program to display \"Hello, Python\" using **single-quotes (instead of double-quotes)** to quote the string."
      ]
    },
    {
      "cell_type": "code",
      "metadata": {
        "id": "F_KOiDvuE3sH"
      },
      "source": [
        ""
      ],
      "execution_count": null,
      "outputs": []
    },
    {
      "cell_type": "markdown",
      "metadata": {
        "id": "qhseZ3q4E4Pl"
      },
      "source": [
        "But the start and the end of the string must be matched. In case of string including both a single-quote and a double-quote, **you must put \\ (backslash)** to disable the special meaning of the single-quote or double-quote. It is also said \"Escape\".\n",
        "\n",
        "These sentenses are intended to display \"It'll rain\", but the incorrect one will be caught an error.\n",
        "- Incorrect: ``print('It'll rain.')``\n",
        "- Correct: ``print('It\\'ll rain.')``"
      ]
    },
    {
      "cell_type": "markdown",
      "metadata": {
        "id": "1MqyWTVM-0QI"
      },
      "source": [
        "#### Practice\n",
        "1. Change the message as you like, but including at least one single-quote(`'`) in the message.\n",
        "2. Change the message as you like, but including at least one double-quote(`\"`) in the message.\n"
      ]
    },
    {
      "cell_type": "code",
      "metadata": {
        "id": "GZ_jx-zi-1ZF"
      },
      "source": [
        ""
      ],
      "execution_count": null,
      "outputs": []
    },
    {
      "cell_type": "markdown",
      "metadata": {
        "id": "c55ilepZ_IWJ"
      },
      "source": [
        "#### Practice\n",
        "You want to display the message, **\"This is Joe's book.\"** (i.e. including one single-quote and two double-quote).\n",
        "\n",
        "Please write a program to display the message.\n"
      ]
    },
    {
      "cell_type": "code",
      "metadata": {
        "id": "lCwK3daw_F70"
      },
      "source": [
        ""
      ],
      "execution_count": null,
      "outputs": []
    },
    {
      "cell_type": "markdown",
      "metadata": {
        "id": "UPgyZs3kS5Us"
      },
      "source": [
        "### Data Type (bool, NoneType, int, float, str)\n",
        "In this work, we consider only five \"primitive\" data types below in Python.\n",
        "\n",
        "Data Type | meaning | Example\n",
        "-|-|-\n",
        "bool | True(1) or False(0) | True, False\n",
        "NoneType | Nothing | None\n",
        "int | an integer number | 1, 3, 0, -7\n",
        "float | a real number | 3.1, 2.0, -1.5\n",
        "str | a string (ordered set of letters) | \"Hello, Python\", \"Good Morning!\"\n",
        "\n",
        "NoneType indicates \"Nothing\" explicitly. Some of functions return the value \"None\", which indicates nothing to return.\n",
        "\n",
        "To express a string, you must quote the string with single-quote(') or double-quote(\"). The quoter should be same in a program code as possible.\n",
        "\n",
        "Please run the following program and check how the data type of a value is set."
      ]
    },
    {
      "cell_type": "code",
      "metadata": {
        "id": "0rJ5n5fGo35-"
      },
      "source": [
        "print(type(True))   # bool\n",
        "print(type(None))   # NoneType\n",
        "print(type(3))      # integer\n",
        "print(type(4.5))    # float\n",
        "print(type('Hua Hin')) # string"
      ],
      "execution_count": null,
      "outputs": []
    },
    {
      "cell_type": "markdown",
      "source": [
        "#### Practice: Data type\n",
        "Write a program to check the data type of the values shown below:\n",
        "- -0.0\n",
        "- 0\n",
        "- \"Hello\"\n",
        "- False\n"
      ],
      "metadata": {
        "id": "6tepld2xx5vn"
      }
    },
    {
      "cell_type": "code",
      "source": [
        ""
      ],
      "metadata": {
        "id": "i6I4XjSQyEXV"
      },
      "execution_count": null,
      "outputs": []
    },
    {
      "cell_type": "markdown",
      "metadata": {
        "id": "FsYl0wgeTAwI"
      },
      "source": [
        "### Variable\n",
        "You can store a value into a variable.\n",
        "For example, the statement is as follows:\n",
        "```\n",
        "a = 1\n",
        "```\n",
        "In this statement, `a` is the variable name and the statement means it substitutes 1 into variable `a` (In other words, `a` is set to 1).\n",
        "\n",
        "This statement do the two steps internally.\n",
        "1.   Python prepares (allocates) memory for the variable `a`\n",
        "2.   Python sets the memory to represent 1.\n",
        "\n",
        "![p1_w02_01.png](data:image/png;base64,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)\n",
        "\n",
        "You can name a variable as you like with some exceptions, such as reserved words.\n",
        "But you should be able to understand the program even if you have to re-read it after some time off.\n",
        "Also, in general, a variable name of one character (for example, `i` and `j`) is used for repetition.  \n",
        "\n",
        "#### Substituting a value into a variable:  \n",
        "When you want to substitute a value into a variable, you can use `=` operator.\n",
        "The following lines are examples to substitute a value into a variable.\n",
        "\n",
        "```\n",
        "x = 3        # substitute 3 of integer number into x\n",
        "f = 3.0      # substitute 3.0 of real number into f (so f is different from x)\n",
        "y = 1.5      # substitute 1.5 of real number into y\n",
        "z = \"HELLO\"  # substitute \"HELLO\" of string into z. You can use ' instead of \" .\n",
        "o = 0o11     # The prefix \"0o\" means that the value is octal.\n",
        "h = 0x11     # The prefix \"0x\" means that the value is hexadecimal.\n",
        "```\n",
        "\n",
        "When you want to print a value in a variable, you use `print()` function.\n",
        "Python allocates the data type automatically, so you sometime have to check the data type of a variable using `type()` function.\n",
        "\n",
        "```\n",
        "print(x)       # print the value of x\n",
        "print(type(x)) # print the data type of x\n",
        "```"
      ]
    },
    {
      "cell_type": "markdown",
      "metadata": {
        "id": "k4iLT3zuR4PP"
      },
      "source": [
        "#### Variable naming rule\n",
        "There are some rules of naming variables. In Python,\n",
        "1. The variable name must start with an alphabet letter or underscore(_). Otherwise, Python will raise an error.\n",
        "2. The variable name must contain an alphabet, a number or a underscore(_), except for the first character of the name.\n",
        "3. Variable names are case-sensitive. For example, variable \"x\" is different from variable \"X\". \n",
        "\n",
        "In Python, the variable name starting with '_' means that the variable is used internally. \n",
        "\n",
        "Examples are shown in the below table:\n",
        "\n",
        "Valid (Legal) | Invalid (Illegal) \n",
        "-|-\n",
        "`mydept = \"Computer\"` | `0mydept = \"Computer\"` \n",
        "`my_dept = \"Computer\"` | `my-dept = \"Computer\"`\n",
        "`_my_dept = \"Computer\"` | `my@dept = \"Computer\"`\n",
        "`mydept22 = \"Computer\"` | `😍 = \"Computer\"`\n",
        "`My22dept = \"Computer\"` | \n",
        "`MyDept = \"Computer\"` | \n",
        "\n",
        "You can use Thai character and Japanese character to declare variables since version 3 of Python, but it is inconvenient for program code writing.\n",
        "In this class, a variable name must contain alphabets, numbers and underscores complying with the rule above."
      ]
    },
    {
      "cell_type": "code",
      "source": [
        "# An example using Japanese and Thai character variable\n",
        "コンピュータ=\"Computer\"\n",
        "ดอย=\"Mountain\"\n",
        "\n",
        "print(コンピュータ)\n",
        "print(ดอย)"
      ],
      "metadata": {
        "colab": {
          "base_uri": "https://localhost:8080/"
        },
        "id": "EEXtxZxduqwu",
        "outputId": "70af9f8e-1b99-4ef9-8116-0d3b12c40e43"
      },
      "execution_count": 7,
      "outputs": [
        {
          "output_type": "stream",
          "name": "stdout",
          "text": [
            "Computer\n",
            "Mountain\n"
          ]
        }
      ]
    },
    {
      "cell_type": "markdown",
      "source": [
        "In addition to this, the following variable name can't be used because of the reserved word in Python. In other words, there reserved words have other special meanings. These word are different from programming languages.\n",
        "If you will get used to programming, you will not use such a variable name.\n",
        "\n",
        "Reserved | Reversed | Reserved | Reserved | Reserved\n",
        "-|-|-|-|-\n",
        "False | None | True | and | as \n",
        "assert | break | class | continue | def\n",
        "del | elif | else | except | finally\n",
        "for | from | global | if | import\n",
        "in | is | lambda | nonlocal | not\n",
        "or | pass | raise | return | try\n",
        "while | with | yield\n",
        "\n",
        "You shouldn't use the variable name starting with '\\_\\_' (two underscores) and ending with '\\_\\_' (two underscores). Such the variables are for internal uses in Python.\n",
        "\n"
      ],
      "metadata": {
        "id": "n7x_f5Ftuq7x"
      }
    },
    {
      "cell_type": "markdown",
      "source": [
        "#### Practice: Variable naming rules\n",
        "Please respond to the Google Form: https://forms.gle/kjgYwkPN1gwLqijA6\n"
      ],
      "metadata": {
        "id": "Wy_Y3GN4rl2c"
      }
    },
    {
      "cell_type": "markdown",
      "metadata": {
        "id": "3_KIbTMiojmH"
      },
      "source": [
        "#### Practice: Basic variable operation\n",
        "Please make a program satisfying the following specifications:\n",
        "1. Substituting `10` of an integer number into the variable named `x` .\n",
        "2. Substituting `1.0` of a real number into the variable named `f` .\n",
        "3. Substituting `\"Enjoy\"` of a string into the variable named `z` .\n",
        "4. Printing the **value** of `x`, `y` and `z`.\n",
        "5. Printing the **data type** of `x`, `y` and `z`.\n",
        "\n",
        "Notice: You don't have to take care of data types of variables.\n"
      ]
    },
    {
      "cell_type": "code",
      "metadata": {
        "id": "3eSwVcNBQ8zn"
      },
      "source": [
        "\n"
      ],
      "execution_count": 6,
      "outputs": []
    }
  ]
}