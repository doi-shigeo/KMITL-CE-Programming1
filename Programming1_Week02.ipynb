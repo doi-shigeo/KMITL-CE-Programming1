{
  "nbformat": 4,
  "nbformat_minor": 0,
  "metadata": {
    "colab": {
      "name": "Programming1_Week02.ipynb",
      "provenance": [],
      "collapsed_sections": [],
      "toc_visible": true,
      "include_colab_link": true
    },
    "kernelspec": {
      "display_name": "Python 3",
      "language": "python",
      "name": "python3"
    },
    "language_info": {
      "codemirror_mode": {
        "name": "ipython",
        "version": 3
      },
      "file_extension": ".py",
      "mimetype": "text/x-python",
      "name": "python",
      "nbconvert_exporter": "python",
      "pygments_lexer": "ipython3",
      "version": "3.8.5"
    }
  },
  "cells": [
    {
      "cell_type": "markdown",
      "metadata": {
        "id": "view-in-github",
        "colab_type": "text"
      },
      "source": [
        "<a href=\"https://colab.research.google.com/github/doi-shigeo/KMITL-CE-Programming1/blob/main/Programming1_Week02.ipynb\" target=\"_parent\"><img src=\"https://colab.research.google.com/assets/colab-badge.svg\" alt=\"Open In Colab\"/></a>"
      ]
    },
    {
      "cell_type": "markdown",
      "metadata": {
        "id": "xQKSdkeAkqaq"
      },
      "source": [
        "# 2nd Week\n",
        "First of all, please don't forget to make a copy to your Google Drive.\n",
        "\n",
        "If you download the material from GitHub, you can see \"Copy to Drive\" button above.\n",
        "Please click it and change the filename: \n",
        "\n",
        "\"Copy of Programming1_WeekNN.ipynb\" into \"XXnickname_Programming1_WeekNN.ipynb\" before starting, where XX is last 2 digits of your ID and NN is the number of weeks.\n",
        "For example, last 2 digit of your ID is 49 and nickname is \"Shigeo\", \n",
        "the filename is \"49Shigeo_Programming1_Week02.ipynb\""
      ]
    },
    {
      "cell_type": "markdown",
      "metadata": {
        "id": "XaJfrzieMVZX"
      },
      "source": [
        "## Escaping"
      ]
    },
    {
      "cell_type": "markdown",
      "metadata": {
        "id": "oXx66sDlQleF"
      },
      "source": [
        "### Quote a string \n",
        "To quote a string, you can use either \" (double-quote) or ' (single-quote).\n",
        "\n",
        "Change the program to display \"Hello, Python\" using **single-quotes (instead of double-quotes)** to quote the string."
      ]
    },
    {
      "cell_type": "code",
      "metadata": {
        "id": "F_KOiDvuE3sH"
      },
      "source": [
        ""
      ],
      "execution_count": null,
      "outputs": []
    },
    {
      "cell_type": "markdown",
      "metadata": {
        "id": "qhseZ3q4E4Pl"
      },
      "source": [
        "But the start and the end of the string must be matched. In case of string including both a single-quote and a double-quote, **you must put \\ (backslash)** to disable the special meaning of the single-quote or double-quote. It is also said \"Escape\".\n",
        "\n",
        "These sentenses are intended to display \"It'll rain\", but the incorrect one will be caught an error.\n",
        "- Incorrect: ``print('It'll rain.')``\n",
        "- Correct: ``print('It\\'ll rain.')``"
      ]
    },
    {
      "cell_type": "markdown",
      "metadata": {
        "id": "1MqyWTVM-0QI"
      },
      "source": [
        "1. Change the message as you like, but including at least one single-quote(`'`) in the message.\n",
        "2. Change the message as you like, but including at least one double-quote(`\"`) in the message.\n"
      ]
    },
    {
      "cell_type": "code",
      "metadata": {
        "id": "GZ_jx-zi-1ZF"
      },
      "source": [
        ""
      ],
      "execution_count": null,
      "outputs": []
    },
    {
      "cell_type": "markdown",
      "metadata": {
        "id": "c55ilepZ_IWJ"
      },
      "source": [
        "You want to display the message, **\"This is Joe's.\"** (i.*e*. including one single-quote and two double-quote).\n",
        "\n",
        "Please write a program to display the message.\n"
      ]
    },
    {
      "cell_type": "code",
      "metadata": {
        "id": "lCwK3daw_F70"
      },
      "source": [
        ""
      ],
      "execution_count": null,
      "outputs": []
    },
    {
      "cell_type": "markdown",
      "metadata": {
        "id": "UPgyZs3kS5Us"
      },
      "source": [
        "### Data Type (int, float, str)\n",
        "In this work, we consider only three data types below in Python.\n",
        "\n",
        "*   `int` means an integer number. e.g. 1, 3, 0, -7, ...\n",
        "*   `float` means a real number. e.g. 3.1, 2.3, -1.1, ...\n",
        "*   `str` means a string. To express a string, you must quote the string with single-quote(') or double-quote(\"). e.g. \"Hello, Python!\", 'Good morning'\n",
        "\n",
        "Please run the following program and check how the data type of a value is set."
      ]
    },
    {
      "cell_type": "code",
      "metadata": {
        "id": "0rJ5n5fGo35-"
      },
      "source": [
        "print(type(3)) # integer\n",
        "print(type(4.5)) # float\n",
        "print(type('HOGE')) # string"
      ],
      "execution_count": null,
      "outputs": []
    },
    {
      "cell_type": "markdown",
      "metadata": {
        "id": "FsYl0wgeTAwI"
      },
      "source": [
        "### Variable\n",
        "You can store a value into a variable.\n",
        "For example, the statement is as follows:\n",
        "```\n",
        "a = 1\n",
        "```\n",
        "In this statement, `a` is the variable name and the statement means it substitutes 1 into variable `a` (In other words, `a` is set to 1).\n",
        "\n",
        "This statement do the two steps internally.\n",
        "1.   Python prepares (allocates) memory for the variable `a`\n",
        "2.   Python sets the memory to represent 1.\n",
        "\n",
        "You can name a variable as you like with some exceptions, such as reserved words.\n",
        "But you should be able to understand the program even if you have to re-read it after some time off.\n",
        "Also, in general, a variable name of one character (for example, `i` and `j`) is used for repetition.  \n",
        "\n",
        "Substituting a value into a variable:  \n",
        "When you want to substitute a value into a variable, you can use `=` operator.\n",
        "The following lines are examples to substitute a value into a variable.\n",
        "\n",
        "```\n",
        "x = 3        # substitute 3 of integer number into x\n",
        "f = 3.0      # substitute 3.0 of real number into f (so f is different from x)\n",
        "y = 1.5      # substitute 1.5 of real number into y\n",
        "z = \"HELLO\"  # substitute \"HELLO\" of string into z. You can use ' instead of \" .\n",
        "o = 0o11     # The prefix \"0o\" means that the value is octal.\n",
        "h = 0x11     # The prefix \"0x\" means that the value is hexadecimal.\n",
        "```\n",
        "\n",
        "When you want to print a value in a variable, you use `print()` function.\n",
        "Python allocates the data type automatically, so you sometime have to check the data type of a variable using `type()` function.\n",
        "\n",
        "```\n",
        "print(x)       # print the value of x\n",
        "print(type(x)) # print the data type of x\n",
        "```"
      ]
    },
    {
      "cell_type": "markdown",
      "metadata": {
        "id": "k4iLT3zuR4PP"
      },
      "source": [
        "The variable name starting with a number is invalid.\n",
        "And the variable name starting with '_' means that the variable is used for internally. \n",
        "```\n",
        "x = 3      # valid\n",
        "1ab = 10.0 # invalid\n",
        "```\n",
        "\n",
        "The following variable name can't be used because of the reserved word in Python. In other words, there reserved words have other special meanings. These word are different from programming languages.\n",
        "If you will get used to programming, you will not use such a variable name.\n",
        "\n",
        "* False\n",
        "* None\n",
        "* True\n",
        "* and\n",
        "* as\n",
        "* assert\n",
        "* break\n",
        "* class\n",
        "* continue\n",
        "* def\n",
        "* del\n",
        "* elif\n",
        "* else\n",
        "* except\n",
        "* finally\n",
        "* for\n",
        "* from  \n",
        "* global\n",
        "* if\n",
        "* import\n",
        "* in\n",
        "* is\n",
        "* lambda\n",
        "* nonlocal\n",
        "* not\n",
        "* or\n",
        "* pass\n",
        "* raise\n",
        "* return\n",
        "* try\n",
        "* while\n",
        "* with\n",
        "* yield\n",
        "\n",
        "\n",
        "And you mustn't use the variable name starting with '\\_\\_' (two underscores) and ending with '\\_\\_' (two underscores). Such the variables are for internal uses in Python.\n",
        "\n"
      ]
    },
    {
      "cell_type": "markdown",
      "metadata": {
        "id": "3_KIbTMiojmH"
      },
      "source": [
        "Please write a program.\n",
        "Here is an instruction:\n",
        "\n",
        "Please make a program satisfying the following specifications:\n",
        "1. Substituting `10` of an integer number into the variable named `x` .\n",
        "2. Substituting `1.0` of a real number into the variable named `f` .\n",
        "3. Substituting `\"Enjoy\"` of a string into the variable named `z` .\n",
        "4. Printing the values of `x`, `y` and `z`.\n",
        "5. Printing the data types of `x`, `y` and `z`.\n",
        "\n",
        "Notice: You don't have to take care of data types of variables.\n"
      ]
    },
    {
      "cell_type": "code",
      "metadata": {
        "id": "3eSwVcNBQ8zn"
      },
      "source": [
        ""
      ],
      "execution_count": null,
      "outputs": []
    }
  ]
}