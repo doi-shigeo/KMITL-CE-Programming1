{
  "nbformat": 4,
  "nbformat_minor": 0,
  "metadata": {
    "colab": {
      "name": "Programming1_Week02.ipynb",
      "provenance": [],
      "authorship_tag": "ABX9TyP/L9VXucL927+kG5WjZu1c",
      "include_colab_link": true
    },
    "kernelspec": {
      "name": "python3",
      "display_name": "Python 3"
    }
  },
  "cells": [
    {
      "cell_type": "markdown",
      "metadata": {
        "id": "view-in-github",
        "colab_type": "text"
      },
      "source": [
        "<a href=\"https://colab.research.google.com/github/doi-shigeo/KMITL-CS-Programming1/blob/main/Programming1_Week02.ipynb\" target=\"_parent\"><img src=\"https://colab.research.google.com/assets/colab-badge.svg\" alt=\"Open In Colab\"/></a>"
      ]
    },
    {
      "cell_type": "code",
      "metadata": {
        "id": "PUyrqPyZTBvc"
      },
      "source": [
        ""
      ],
      "execution_count": null,
      "outputs": []
    },
    {
      "cell_type": "markdown",
      "metadata": {
        "id": "svycb1GkTGnv"
      },
      "source": [
        "# Week 02\r\n",
        "## Precedence of arithmetic operators:\r\n",
        "1. Parentheses:  ( )\r\n",
        "2. Exponents: **\r\n",
        "3. Multiplication or Division: *, /, //, %\r\n",
        "4. Addition or Subtraction: +, -\r\n",
        "\r\n",
        "## Pair work\r\n",
        "Please input the expression \"(2+4%3)+7//2\\*2**3\" in the code region below.\r\n",
        "Please share and explain your calculation process with another member.\r\n",
        "\r\n"
      ]
    },
    {
      "cell_type": "code",
      "metadata": {
        "id": "KDscBEIdTqAp"
      },
      "source": [
        "(2+4%3)+7//2*2**3"
      ],
      "execution_count": null,
      "outputs": []
    },
    {
      "cell_type": "markdown",
      "metadata": {
        "id": "gzxanRbiUOMm"
      },
      "source": [
        "## `input()` statement\r\n",
        "\r\n",
        "You can allow for user input by using `input()` function.\r\n",
        "You can store the user input into a variable **as a string**.\r\n",
        "\r\n"
      ]
    },
    {
      "cell_type": "code",
      "metadata": {
        "id": "ujSv-75CUuOx"
      },
      "source": [
        "msg = input(\"Please type your name: >\")\r\n",
        "print(\"Hi,\", msg)"
      ],
      "execution_count": null,
      "outputs": []
    },
    {
      "cell_type": "markdown",
      "metadata": {
        "id": "RryS9r62VIT7"
      },
      "source": [
        "You must convert user input into a number before using it for calculation.  \r\n",
        "If not, it causes a runtime error."
      ]
    },
    {
      "cell_type": "code",
      "metadata": {
        "id": "am4JgK0QVTh6"
      },
      "source": [
        "ii = input(\"Please enter an integer number : >\")\r\n",
        "i = int(ii)\r\n",
        "\r\n",
        "rr = input(\"Please enter a real number : >\")\r\n",
        "r = float(rr)\r\n",
        "\r\n",
        "print(r * i) # can be multiplied\r\n",
        "print(rr*ii) # caught an error because these variables have string data type."
      ],
      "execution_count": null,
      "outputs": []
    },
    {
      "cell_type": "markdown",
      "metadata": {
        "id": "LmCkZQGBWefO"
      },
      "source": [
        "### Work: The area of a triangle\r\n",
        "\r\n",
        "You are making a program to calculate the area of a triangle.\r\n",
        "- The length of base is `b`.\r\n",
        "- The length of height is `h`.\r\n",
        "\r\n",
        "Both `b` and `h` must be user input.\r\n",
        "\r\n",
        "Please fill **++Fill here++** in the last `print()` statement and run the program.\r\n",
        "\r\n",
        "Note: If you have time, Input a string except for a number into `h` or `b`."
      ]
    },
    {
      "cell_type": "code",
      "metadata": {
        "id": "vq17zYBxW5k3"
      },
      "source": [
        "print(\"Input real numbers of h[cm] and b[cm]\")\r\n",
        "h = float(input(\"h=\"))\r\n",
        "b = float(input(\"b=\"))\r\n",
        "\r\n",
        "print(\"The area of a triangle is:\", ++Fill here++ ,\"[cm^2]\") \r\n"
      ],
      "execution_count": null,
      "outputs": []
    },
    {
      "cell_type": "markdown",
      "metadata": {
        "id": "H6aQDfPnTF-f"
      },
      "source": [
        "## `print()` statement\r\n",
        "\r\n",
        "### Work:\r\n",
        "Fill **++(1)++** and **++(2)++** in the program to get the output below.\r\n",
        "\r\n",
        "Output:  \r\n",
        "`You will do your best, Andrew. `  \r\n",
        "`WXZ`"
      ]
    },
    {
      "cell_type": "code",
      "metadata": {
        "colab": {
          "base_uri": "https://localhost:8080/"
        },
        "id": "xXUfRXY7YEJH",
        "outputId": "4c426962-bf6d-4928-bb55-87a253b49723"
      },
      "source": [
        "print('You will do your best, ', end='++(1)++')\r\n",
        "print('++(2)++'.format('X','Y','Z','W'))"
      ],
      "execution_count": 14,
      "outputs": [
        {
          "output_type": "stream",
          "text": [
            "You will do your best, ++(1)++++(2)++\n"
          ],
          "name": "stdout"
        }
      ]
    },
    {
      "cell_type": "markdown",
      "metadata": {
        "id": "4JrTPf5HTCjL"
      },
      "source": [
        "Please confirm the output and explain why you get the results."
      ]
    },
    {
      "cell_type": "code",
      "metadata": {
        "colab": {
          "base_uri": "https://localhost:8080/"
        },
        "id": "kvltq18ha7ql",
        "outputId": "7a1d6c76-b552-4d1f-da95-05f76376da33"
      },
      "source": [
        "print('Python','C','Java',sep=':')\r\n",
        "print('{2}-{1}'.format('TYO', 'CTS', 'BKK'))"
      ],
      "execution_count": 15,
      "outputs": [
        {
          "output_type": "stream",
          "text": [
            "Python:C:Java\n",
            "BKK-CTS\n"
          ],
          "name": "stdout"
        }
      ]
    },
    {
      "cell_type": "markdown",
      "metadata": {
        "id": "ioNMYtLHcYgG"
      },
      "source": [
        "## RSA cryptosystem"
      ]
    },
    {
      "cell_type": "code",
      "metadata": {
        "colab": {
          "base_uri": "https://localhost:8080/"
        },
        "id": "plyb4f7Wcar2",
        "outputId": "1271244e-1627-4bff-b2e1-75bcba58df54"
      },
      "source": [
        "e = 5\r\n",
        "p = 13\r\n",
        "q = 3\r\n",
        "d = 5\r\n",
        "\r\n",
        "N = p*q\r\n",
        "m = input(\"Input an integer number of the range from 1 to \" + str(N-1))\r\n",
        "M = int(m)\r\n",
        "\r\n",
        "E = M ** e % N # Calculate M to \"e\"th power, then divide it by N and store the remainder into E.\r\n",
        "print(\"RSA E:\", E)\r\n",
        "D = E ** d % N # Calculate E to \"d\"th power, then divide it by N and store the remainder into D.\r\n",
        "print(\"RSA D:\", D)\r\n"
      ],
      "execution_count": 19,
      "outputs": [
        {
          "output_type": "stream",
          "text": [
            "Input an integer number of the range from 1 to 3815\n",
            "RSA E: 6\n",
            "RSA E: 15\n"
          ],
          "name": "stdout"
        }
      ]
    },
    {
      "cell_type": "code",
      "metadata": {
        "id": "d7h53i8UckvH"
      },
      "source": [
        ""
      ],
      "execution_count": null,
      "outputs": []
    }
  ]
}