{
 "cells": [
  {
   "cell_type": "markdown",
   "metadata": {
    "colab_type": "text",
    "id": "view-in-github"
   },
   "source": [
    "<a href=\"https://colab.research.google.com/github/doi-shigeo/KMITL-CE-Programming1/blob/main/Programming1_Week01.ipynb\" target=\"_parent\"><img src=\"https://colab.research.google.com/assets/colab-badge.svg\" alt=\"Open In Colab\"/></a>"
   ]
  },
  {
   "cell_type": "markdown",
   "metadata": {},
   "source": [
    "# 4th Week"
   ]
  },
  {
   "cell_type": "markdown",
   "metadata": {
    "id": "L0WUhb6_FzjQ"
   },
   "source": [
    "## String and substrings\n",
    "\n",
    "Objective: You'll understand some operators for string variables.\n",
    "\n",
    "A string is a ordered set of characters.\n",
    "String starts with 0 of **index**. The index is allocated by 0, 1, 2, ...\n",
    "You can get a substring using a [] operator. \n",
    "\n",
    "### Substring\n",
    "```\n",
    "[n] : get a substring of nth character\n",
    "[n:m] : get a substring of nth character to (m-1)th character\n",
    "[n:] : get a substring after nth character\n",
    "[:n] : get a substring before nth character\n",
    "```\n",
    "\n",
    "### Example\n",
    "```\n",
    "s = \"Hello!\"  \n",
    "print(s[0])   # 'H'\n",
    "print(s[4])   # 'o'\n",
    "print(s[1:3]) # 'el'\n",
    "print(s[3:])  # 'lo!' \n",
    "print(s[:2])  # 'Hel'\n",
    "```\n",
    "\n",
    "Please make a program satisfying the following specifications:\n",
    "1. Substitute \"Hello, John. How are you today?\" into the variable named `s`.\n",
    "2. Print from 13th character to 15th character of `s`. What word will you find?\n",
    "3. Print after 17th character of `s`. What words will you find?\n",
    "4. Print the sentense \"Hello, John\" of s, using the expression of substring.\n"
   ]
  },
  {
   "cell_type": "code",
   "execution_count": null,
   "metadata": {
    "id": "3eSwVcNBQ8zn"
   },
   "outputs": [],
   "source": []
  }
 ],
 "metadata": {
  "colab": {
   "authorship_tag": "ABX9TyP0g7LJcHxQDDkd3YOdCDgW",
   "collapsed_sections": [],
   "include_colab_link": true,
   "name": "Programming1_Week01.ipynb",
   "provenance": [],
   "toc_visible": true
  },
  "kernelspec": {
   "display_name": "Python 3",
   "language": "python",
   "name": "python3"
  },
  "language_info": {
   "codemirror_mode": {
    "name": "ipython",
    "version": 3
   },
   "file_extension": ".py",
   "mimetype": "text/x-python",
   "name": "python",
   "nbconvert_exporter": "python",
   "pygments_lexer": "ipython3",
   "version": "3.8.5"
  }
 },
 "nbformat": 4,
 "nbformat_minor": 1
}
