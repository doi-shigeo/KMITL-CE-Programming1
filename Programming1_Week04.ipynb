{
  "nbformat": 4,
  "nbformat_minor": 0,
  "metadata": {
    "colab": {
      "name": "Programming1_Week04.ipynb",
      "provenance": [],
      "collapsed_sections": [],
      "toc_visible": true,
      "include_colab_link": true
    },
    "kernelspec": {
      "display_name": "Python 3",
      "language": "python",
      "name": "python3"
    },
    "language_info": {
      "codemirror_mode": {
        "name": "ipython",
        "version": 3
      },
      "file_extension": ".py",
      "mimetype": "text/x-python",
      "name": "python",
      "nbconvert_exporter": "python",
      "pygments_lexer": "ipython3",
      "version": "3.8.5"
    }
  },
  "cells": [
    {
      "cell_type": "markdown",
      "metadata": {
        "id": "view-in-github",
        "colab_type": "text"
      },
      "source": [
        "<a href=\"https://colab.research.google.com/github/doi-shigeo/KMITL-CE-Programming1/blob/main/Programming1_Week04.ipynb\" target=\"_parent\"><img src=\"https://colab.research.google.com/assets/colab-badge.svg\" alt=\"Open In Colab\"/></a>"
      ]
    },
    {
      "cell_type": "markdown",
      "metadata": {
        "id": "dyhK9XpYfm96"
      },
      "source": [
        "# 4th Week\n",
        "\n",
        "Please copy the file into your Google Drive and rename it.\n",
        "Example: \"99Shigeo_Programming1_Week04.ipynb\"\n"
      ]
    },
    {
      "cell_type": "markdown",
      "metadata": {
        "id": "L0WUhb6_FzjQ"
      },
      "source": [
        "## Conditional Execution\n",
        "Objective: You'll understand conditional execution.\n",
        "\n",
        "Conditional Execution means you can execute statements which depends on a condition."
      ]
    },
    {
      "cell_type": "markdown",
      "metadata": {
        "id": "u4R4F13_xSyg"
      },
      "source": [
        "### Arithmetic Comparator\n",
        "\n",
        "Arithmetic comparators are used for conditions of `if` statement (it will be explained later). These are used for checking the value of a variable is in a range numerically. \n",
        "\n",
        "`a == b` if a **is equal to** b, then the condition is True, otherwise False.\n",
        "\n",
        "`a != b` if a **is not equal to** b, then the condition is True, otherwise False.\n",
        "\n",
        "`a < b` if a **is less than** b, then the condition is True, otherwise False.\n",
        "\n",
        "`a <= b` if a **is equal to or less than** b, then the condition is True, otherwise False.\n",
        "\n",
        "`a > b` if a **is greater than** b, then the condition is True, otherwise False.\n",
        "\n",
        "`a >= b` if a **is equal to or greater than** b, then the condition is True, otherwise False.\n",
        "\n"
      ]
    },
    {
      "cell_type": "markdown",
      "metadata": {
        "id": "VH7U63fPP9xd"
      },
      "source": [
        "#### Work\n",
        "\n",
        "When a = 3 and b = 3.0, Please write a program how the six comparaters work. Please fill the lines to check the rest comparators.\n",
        "Please be aware of the data type of a and b is different. (i.e. a is int, b is float) \n",
        "Of course, you can change the values."
      ]
    },
    {
      "cell_type": "code",
      "metadata": {
        "id": "3eSwVcNBQ8zn"
      },
      "source": [
        "a = 3\n",
        "b = 3.0\n",
        "print(a == b)\n",
        "print(a != b)\n",
        "# In work, fill the statements to check these arithmetic comparators.\n",
        "# append other arithmetic operators above."
      ],
      "execution_count": null,
      "outputs": []
    },
    {
      "cell_type": "markdown",
      "metadata": {
        "id": "hn2qEdJc82lt"
      },
      "source": [
        "### If statement\n",
        "If you want to implement a conditional execution, you can use `if` statement. There are some patterns to use `if` statement.\n",
        "condition must be presented. Please don't forget to put colon(:).\n",
        "\n",
        "```\n",
        "if condition:\n",
        "  # A\n",
        "  # if condition is True, Python executes the indented statements.\n",
        "  # you must indent.\n",
        "else:\n",
        "  # B\n",
        "  # if condition is False, Python executes the indented statements.\n",
        "  # you must indent.\n",
        "\n",
        "# C\n",
        "# After indentation is done, Python executes the statement independent of condition.\n",
        "```\n",
        "\n",
        "The flowchart is as follows. \n",
        "The rectangle shapre indicates a \"statement\", The program runs with the direction of the arrow (almost top to bottom).\n",
        "The diamond shape indicates a \"selection\",\n",
        "whether the condition inside of the shape is satisfied or not.\n",
        "\n",
        "![ifabc.png](data:image/png;base64,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)\n",
        "\n",
        "`else:` and the statements, that are executed when condition is False, are omittable. Therefore, you can write if you don't have statements to execute when condition is False.\n",
        "\n"
      ]
    },
    {
      "cell_type": "markdown",
      "metadata": {
        "id": "MlviWzBWjEg8"
      },
      "source": [
        "```\n",
        "if condition:\n",
        "  # A\n",
        "  # if condition is True, Python executes the indented statements.\n",
        "  # you must indent.\n",
        "\n",
        "# C\n",
        "# After indentation is done, Python executes the statement independent of condition.\n",
        "```\n",
        "\n",
        "The flowchart is as follows. Please be aware that if condition is False, only statement C is executed.\n",
        "\n",
        "![ifac.png](data:image/png;base64,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)"
      ]
    },
    {
      "cell_type": "markdown",
      "metadata": {
        "id": "IRKeXDRrjqHO"
      },
      "source": [
        "Or, you have to write a program to determine complex conditions,\n",
        "You can understand `elif` is an abbreviation of \"else if\".\n",
        "```\n",
        "if condition1:\n",
        "  # A\n",
        "  # if condition1 is True, Python executes the indented statements.\n",
        "  # you must indent.\n",
        "elif condition2:\n",
        "  # B\n",
        "  # if condition2 is True, Python executes the indented statements.\n",
        "  # you must indent.\n",
        "else:\n",
        "  # C\n",
        "  # if condition is False, Python executes the indented statements.\n",
        "  # you must indent.\n",
        "\n",
        "# D\n",
        "# After indentation is done, Python executes the statement independent of condition.\n",
        "```\n",
        "![ifabcd.png](data:image/png;base64,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)\n",
        "\n",
        "#### Nesting\n",
        "`if` statement can be nested like this:\n",
        "\n",
        "```\n",
        "if cond1:\n",
        "  if cond2:\n",
        "    # A \n",
        "  else\n",
        "    # B\n",
        "else:\n",
        "  # C\n",
        "```\n",
        "For this program,\n",
        "- `A` is executed if both **cond1** and **cond2** are True\n",
        "- `B` is executed if **cond1** is True and **cond2** is False\n",
        "- `C` is executed if **cond1** is False (it is independent of **cond2**)\n"
      ]
    },
    {
      "cell_type": "markdown",
      "metadata": {
        "id": "lYTZXcNmjMpu"
      },
      "source": [
        "\n",
        "\n",
        "Please run the following program.\n",
        "\n",
        "Please try two cases, which are that you specify user input *a* is 6 or not. \n",
        "Please take care that \"That's all\" is displayed whether a == 6 or not."
      ]
    },
    {
      "cell_type": "code",
      "metadata": {
        "id": "jzQG7kok_GTX"
      },
      "source": [
        "a_str = input(\"Please input a number: \")\n",
        "a = int(a_str)\n",
        "\n",
        "if a == 6:\n",
        "  print(\"a is equal to 6\")\n",
        "else:\n",
        "  print(\"a is not equal to 6\")\n",
        "print(\"That's all\")"
      ],
      "execution_count": null,
      "outputs": []
    },
    {
      "cell_type": "markdown",
      "metadata": {
        "id": "azOTpJagFGVm"
      },
      "source": [
        "#### Work\n",
        "\n",
        "Please write a program:\n",
        "\n",
        "1. A user inputs a **number**. Use `input()` function.\n",
        "2. Please do the following:\n",
        "*   If the number is positive, print \"Positive number\".\n",
        "*   Otherwise, you don't show any messsages.\n"
      ]
    },
    {
      "cell_type": "code",
      "metadata": {
        "id": "8itzY_GQFu0V"
      },
      "source": [
        ""
      ],
      "execution_count": null,
      "outputs": []
    },
    {
      "cell_type": "markdown",
      "metadata": {
        "id": "A50E18Zsl1CD"
      },
      "source": [
        "#### Work\n",
        "Please write a program:\n",
        "1. A user inputs a number, using `input()` function.\n",
        "2. If the number is an even number, print \"Even number\".\n",
        "3. If the number is an odd number, print \"Odd number\".\n",
        "\n",
        "\"Even number\" means the number is divisible by 2. Or, An even number is a multiple of 2.\n",
        "On the other hand, \"Odd number\" means the number isn't divisible by 2.\n",
        "\n",
        "Hint: Use the arithmetic operator \\%.\n",
        "\n"
      ]
    },
    {
      "cell_type": "code",
      "metadata": {
        "id": "0FyQCDDfmKY2"
      },
      "source": [
        ""
      ],
      "execution_count": null,
      "outputs": []
    },
    {
      "cell_type": "markdown",
      "metadata": {
        "id": "k9rB78H-lgBD"
      },
      "source": [
        "#### Work\n",
        "\n",
        "Please write a program:\n",
        "\n",
        "1. A user inputs a **number**. Use `input()` function.\n",
        "2. Please do the following:\n",
        "*   If the number is positive, print \"Positive\"\n",
        "*   If the number is equal to 0, print \"Zero\".\n",
        "*   If the number is negative, print \"Negative\".\n",
        "*   Otherwise, you don't show any messsages."
      ]
    },
    {
      "cell_type": "code",
      "metadata": {
        "id": "QdG8TpMCleP6"
      },
      "source": [
        ""
      ],
      "execution_count": null,
      "outputs": []
    },
    {
      "cell_type": "markdown",
      "metadata": {
        "id": "Vu65ePY6oi6T"
      },
      "source": [
        "### Combination\n",
        "\n",
        "In `if` statement, conditions can be combined with `not`, `and` or `or`.\n",
        "\n",
        "Rules are below. `and` and `or` can be conbined three or more. :\n",
        "```\n",
        "if not cond:\n",
        "  # execute if cond is False\n",
        "```\n",
        "```\n",
        "if not cond:\n",
        "  # execute if cond is False\n",
        "else:\n",
        "  # execute if not (cond is False), i.e. execute cond is True \n",
        "```\n",
        "\n",
        "```\n",
        "if cond1 and cond2:\n",
        "  # execute if both cond1 and cond2 are True\n",
        "```\n",
        "```\n",
        "if cond1 and cond2:\n",
        "  # execute if both cond1 and cond2 are True\n",
        "else:\n",
        "  # execute if at least either cond1 or cond2 is false.\n",
        "```\n",
        "\n",
        "```\n",
        "if cond1 or cond2:\n",
        "  # execute if at least either cond1 or cond2 is True\n",
        "```\n",
        "```\n",
        "if cond1 or cond2:\n",
        "  # execute if at least either cond1 or cond2 is True\n",
        "  else:\n",
        "  # execute if both cond1 and cond2 are false.\n",
        "\n",
        "```"
      ]
    },
    {
      "cell_type": "markdown",
      "metadata": {
        "id": "egX81wtuqQUI"
      },
      "source": [
        "#### Work\n",
        "Please write a program:\n",
        "\n",
        "1. A user inputs two numbers. We name first one is '`a`' and the last one is '`b`'.\n",
        "2. if `a` is positive and greater than `b`, print \"Positive > \"\n",
        "3. if `a` is zero and greater than `b`, print \"Zero > \"\n",
        "4. if `a` is negative and greater than `b`, print \"Negative > \"\n",
        "5. Otherwise, print \"`a` is equal to or less than `b`\".\n",
        "\n"
      ]
    },
    {
      "cell_type": "code",
      "metadata": {
        "id": "58qO00VZr2_K"
      },
      "source": [
        ""
      ],
      "execution_count": null,
      "outputs": []
    },
    {
      "cell_type": "markdown",
      "metadata": {
        "id": "1VaCHT6cr3ur"
      },
      "source": [
        "#### Work\n",
        "Please write a program:\n",
        "\n",
        "1. A user input one positive integer number. We name the number `fz`.\n",
        "2. if `fz` is  a multiple of 3, then print \"Fizz\".\n",
        "3. if `fz` is  a multiple of 5, then print \"Buzz\".\n",
        "4. if `fz` is  both a multiple of 5 and a multiple of 3, then print \"FizzBuzz\".\n"
      ]
    },
    {
      "cell_type": "code",
      "metadata": {
        "id": "vgPIGy4ttJhs"
      },
      "source": [
        ""
      ],
      "execution_count": null,
      "outputs": []
    },
    {
      "cell_type": "markdown",
      "metadata": {
        "id": "VS7oOXALlSzR"
      },
      "source": [
        "#### Work: Leap year?\n",
        "\"Leap year\" means that the year which has **29** days in Febrary.\n",
        "You can determine whether the year is a leap year with the following procedures.\n",
        "\n",
        "1. Convert a year into AY. ex. 2564 in BE -> 2021 in AY\n",
        "2. if the year in AY isn't divisible by 4, the year is not a leap year. \n",
        "   if not, then proceed to step 3.\n",
        "3. if the year in AY isn't divisible by 100,  the year is a leap year.\n",
        "   if not, then proceed to step 4.\n",
        "4. if the year in AY is vivisible by 400, the year is a leap year.\n",
        "   if not, the year is not a leap year.\n",
        "\n",
        "Example:\n",
        "- BE2563(AY2020): Leap year. 2020 is divisible by 4 but isn't divisible by 100.\n",
        "- BE2443(AY1900): Not Leap year. 1900 is divisible by 4 and 100, but isn't divisible by 400.\n",
        "- BE2543(AY2000): Leap year. 2000 is divisible by 4, 100 and 400.\n",
        "\n",
        "\"Divisble\" means the remainder of the division is equal to 0. "
      ]
    }
  ]
}