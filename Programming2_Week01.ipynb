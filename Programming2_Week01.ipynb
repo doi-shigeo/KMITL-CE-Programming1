{
  "nbformat": 4,
  "nbformat_minor": 0,
  "metadata": {
    "colab": {
      "name": "Programming2_Week01.ipynb",
      "provenance": [],
      "toc_visible": true,
      "authorship_tag": "ABX9TyMgwGLswqlekK8HBmqzXy/9",
      "include_colab_link": true
    },
    "kernelspec": {
      "name": "python3",
      "display_name": "Python 3"
    },
    "language_info": {
      "name": "python"
    }
  },
  "cells": [
    {
      "cell_type": "markdown",
      "metadata": {
        "id": "view-in-github",
        "colab_type": "text"
      },
      "source": [
        "<a href=\"https://colab.research.google.com/github/doi-shigeo/KMITL-CE-Programming1/blob/main/Programming2_Week01.ipynb\" target=\"_parent\"><img src=\"https://colab.research.google.com/assets/colab-badge.svg\" alt=\"Open In Colab\"/></a>"
      ]
    },
    {
      "cell_type": "markdown",
      "metadata": {
        "id": "_EGKlI9FbL8m"
      },
      "source": [
        "# Functions (cont'd from Programming 1)\n",
        "\n",
        "## Arguments \n",
        "\n",
        "'Argument' means the data given to a function when calling the function.\n",
        "\n"
      ]
    },
    {
      "cell_type": "markdown",
      "metadata": {
        "id": "vzu_o6-Jhjxp"
      },
      "source": [
        "### Default value(s) to arguments\n",
        "You can define default value(s) to arguments.\n",
        "If the number of given arguments is insufficient, Python uses the default value(s).\n",
        "In the code below, a is 5 and b is 6 as default values.\n",
        "```\n",
        "def func(a=5, b=6):\n",
        "  return a * b\n",
        "```\n",
        "Default value(s) in an argument must be set from the end of an argument. Thus,\n",
        "```\n",
        "def func(a=5, b): # Error\n",
        "def func(a, b=6): # OK\n",
        "```\n",
        "\n",
        "You can call the function `func` as below. Check how the default value works.\n",
        "```\n",
        "print(func())\n",
        "print(func(7))\n",
        "print(func(7,8))\n",
        "```\n",
        "\n"
      ]
    },
    {
      "cell_type": "code",
      "metadata": {
        "id": "WCZHqZw9h-eB"
      },
      "source": [
        "def func(a=5, b=6):\n",
        "  print(a,\"*\",b,\"= \",end='')\n",
        "  return a * b\n",
        "\n",
        "def func2(a, b=5):\n",
        "  print(a,\"*\",b,\"= \",end='')\n",
        "  return a * b\n",
        "\n",
        "print(func())\n",
        "print(func(7))\n",
        "print(func(7,8))\n",
        "\n",
        "print(func2(2))\n",
        "print(func2(2,3))"
      ],
      "execution_count": null,
      "outputs": []
    },
    {
      "cell_type": "markdown",
      "metadata": {
        "id": "eiIJB-c3hnWR"
      },
      "source": [
        "### Arguments as a tuple and key-value pair\n",
        "\n",
        "You can give an argument which has arbitrary length by using the notation of '\\*' and '\\*\\*'. '\\*' indicates a tuple and '\\*\\*' indicates a dictionary, respectively. '\\*' must be placed before '\\*\\*'. If you want to give one of an argument as a dictionary (\\*\\*), you can use the notation of 'key=value' (key-value pair). The key-value pair is stored as a dictionary in the function.\n",
        "These `args` and `kwargs` has no effect after returning the function.\n",
        "\n",
        "Below is a program to understand how **arguments** are interpreted by Python.\n",
        "\n",
        "\"args\" and \"kwargs\" are used as a convention in Python.\n",
        "\n",
        "```\n",
        "def func(arg1, *args, **kwargs):\n",
        "  print(arg1)\n",
        "  print(args)\n",
        "  print(kwargs)\n",
        "```"
      ]
    },
    {
      "cell_type": "code",
      "metadata": {
        "id": "u805o0fIbLVp"
      },
      "source": [
        "def func(arg1, *args, **kwargs):\n",
        "  print(\"arg1=\", arg1)\n",
        "  print(\"args=\", args) # args is given as a tuple\n",
        "  print(\"before changing kwargs:\", kwargs)\n",
        "  kwargs[\"color\"]=\"orange\" # try to change kwargs\n",
        "  print(\"after changing kwargs:\", kwargs)\n",
        "\n",
        "dict={'color': 'green'}\n",
        "func(\"Train\", \"Car\", \"Airplane\", color='blue') # first 3 arguments corresponds to args, the last corresponds to kwargs\n",
        "func(\"Apple\", \"Banana\", \"Coconut\", dict) # dict is stored in the `args`\n",
        "\n",
        "print(dict)  "
      ],
      "execution_count": null,
      "outputs": []
    },
    {
      "cell_type": "markdown",
      "metadata": {
        "id": "5yklpcnozcmi"
      },
      "source": [
        "### Inner function and closure\n",
        "\n",
        "You can define a function inside of a function like the below code:\n",
        "\n",
        "```\n",
        "def func(str):\n",
        "  def inner_func(arg):\n",
        "    return \"HELLO, \" + arg\n",
        "  return inner_func(str) + \".\"\n",
        "```\n",
        "\n",
        "You can't call the inner function `inner_func` in the main program. `inner_function` is valid from the function `func`.\n"
      ]
    },
    {
      "cell_type": "code",
      "metadata": {
        "colab": {
          "base_uri": "https://localhost:8080/",
          "height": 35
        },
        "id": "Yad00IZD0u_i",
        "outputId": "2393e830-ff4f-4730-eeb1-11d8ef3c9c90"
      },
      "source": [
        "def func(str):\n",
        "  def inner_func(arg):\n",
        "    return \"HELLO, \" + arg\n",
        "  return inner_func(str) + \".\"\n",
        "\n",
        "print(func(\"Mike\"))\n",
        "# print(inner_func(\"Mike\")) # you can't call inner_func directly\n"
      ],
      "execution_count": null,
      "outputs": [
        {
          "output_type": "execute_result",
          "data": {
            "application/vnd.google.colaboratory.intrinsic+json": {
              "type": "string"
            },
            "text/plain": [
              "'HELLO, Mike.'"
            ]
          },
          "metadata": {},
          "execution_count": 6
        }
      ]
    },
    {
      "cell_type": "markdown",
      "metadata": {
        "id": "WP5bzTeM3dtg"
      },
      "source": [
        "Inner function also works as a 'closure'.\n",
        "'closure' means that it will be generated dynamically by other functions. It can remember and change the variable outside of the closure. Look at the code below. "
      ]
    },
    {
      "cell_type": "code",
      "metadata": {
        "colab": {
          "base_uri": "https://localhost:8080/"
        },
        "id": "jSmel9BU5ZyV",
        "outputId": "4be11040-5e05-4d4d-e1b1-5321bb5b575e"
      },
      "source": [
        "def func(str):\n",
        "  def inner_func(msg):\n",
        "    return \"Hello '%s' \" % msg + str \n",
        "  return inner_func # beware of returning 'inner_func' without arguments\n",
        "\n",
        "a = func(\"ABC\") # Once called, inner function is generated dynamically\n",
        "                # 'a' is stored a inner function 'inner_func'.\n",
        "                # The argument \"ABC\" is preserved for the inner function.\n",
        "b = func(\"DEF\")\n",
        "\n",
        "print(\"a=\", end=\"\")\n",
        "print(a)\n",
        "print(\"b=\", end=\"\")\n",
        "print(b)\n",
        "print(\"a('TH')=\" + a('TH'))\n",
        "print(\"b('JA')=\" + b('JA'))"
      ],
      "execution_count": null,
      "outputs": [
        {
          "output_type": "stream",
          "name": "stdout",
          "text": [
            "a=<function func.<locals>.inner_func at 0x7f1f61c3e8c0>\n",
            "b=<function func.<locals>.inner_func at 0x7f1f61c4b830>\n",
            "a('hoge')=Hello 'hoge' ABC\n",
            "b('hoge')=Hello 'fuga' DEF\n"
          ]
        }
      ]
    },
    {
      "cell_type": "markdown",
      "metadata": {
        "id": "B9A1j1uCEX7T"
      },
      "source": [
        "The variable `a` and `b` are stored the result of function 'func', referring to the results of `print(a)` and `print(b)`. \n",
        "You can see `a` and `b` are functions, and\n",
        "`func` returns a function (be aware of no argument in the return statement).\n",
        "\n",
        "When you give an argument to `a` and `b`,\n",
        "you can get results of the inner function."
      ]
    },
    {
      "cell_type": "markdown",
      "metadata": {
        "id": "PS1LdTvHWEy0"
      },
      "source": [
        "### Recursive Call of a function\n",
        "You can call a function recursively like this:\n",
        "```\n",
        "def calc_sum(val):\n",
        "  if val <= 0:\n",
        "    return val\n",
        "  return calc_sum(val - 1) + val\n",
        "``` \n",
        "In this example, the last line `return calc_sum(val - 1) + val` uses the same function. It is a **recursive call**. Recursive call can be used for a loop (repetition).\n",
        "\n",
        "For dynamic programming (ex. to search an optimal route in a car navigation system), you can write a program simpler by using recursive call(s). However it consumes more resource than using loop(s) (for, while).\n"
      ]
    },
    {
      "cell_type": "markdown",
      "metadata": {
        "id": "Ym-vdpZQdgAc"
      },
      "source": [
        "## Practice\n",
        "\n"
      ]
    },
    {
      "cell_type": "markdown",
      "metadata": {
        "id": "Wn5VPnx7qvdd"
      },
      "source": [
        "### Q.1. Arguments\n",
        "\n",
        "Declare a function named `print_http_error(*args)`, where args is a tuple **whose length varies**. The order of printing is the same as that of the given arguments.\n",
        "\n",
        "example 1. Calling `print_http_error(403, 404)`, then print \n",
        "```\n",
        "403 Forbidden\n",
        "404 Not Found\n",
        "```\n",
        "example 2. Calling `print_http_error(405, 404, 401)`, then print \n",
        "```\n",
        "405 Method Not Allowed\n",
        "404 Not Found\n",
        "401 Authorization Required\n",
        "```\n",
        "You can use the pre-defined dictionary `http_error` to show the message."
      ]
    },
    {
      "cell_type": "code",
      "metadata": {
        "id": "ONqIWqeeq_SX"
      },
      "source": [
        "http_error = {\n",
        "    401: \"Authorization Required\",\n",
        "    403: \"Forbidden\",\n",
        "    404: \"Not Found\",\n",
        "    405: \"Method Not Allowed\",\n",
        "    407: \"Proxy Authentication Required\",\n",
        "    410: \"Gone\"\n",
        "}\n",
        "def print_http_error(*args):\n",
        "  # fill the function\n",
        "\n",
        "# print error code and details inside of the function.\n",
        "print_http_error(403, 404)\n",
        "print_http_error(405, 404, 401)\n"
      ],
      "execution_count": null,
      "outputs": []
    },
    {
      "cell_type": "markdown",
      "metadata": {
        "id": "NU1XrBqfdjCX"
      },
      "source": [
        "### Q.2. Inner Function (closure)\n",
        "\n",
        "You are about to calculate the area of circle with a given radius. PI(π) is defined as 3.14, 3.14159, or math.pi, it depends on the precision.\n",
        "In this practice, An outer function `define_pi(pi)`, where pi is π to calculate the area of a circle. \n",
        "\n",
        "So, You implement:\n",
        "- Inner function (calc_area_of_circle): \n",
        "- How to call the inner function\n",
        "\n",
        "Example of Output:\n",
        "```\n",
        "Input radius of a circle (positive float): 0.5\n",
        "3.14 :  0.785\n",
        "3.14159 :  0.7853975\n",
        "3.141592653589793 :  0.7853981633974483\n",
        "Input radius of a circle (positive float): 0\n",
        "3.14 :  0.0\n",
        "3.14159 :  0.0\n",
        "3.141592653589793 :  0.0\n",
        "```"
      ]
    },
    {
      "cell_type": "code",
      "metadata": {
        "colab": {
          "base_uri": "https://localhost:8080/"
        },
        "id": "9Fvdk2Waif7G",
        "outputId": "d3a60446-7cd5-443f-92ab-6f854bd8706a"
      },
      "source": [
        "import math # import external library\n",
        "\n",
        "def define_pi(pi):\n",
        "  def calc_area_of_circle(radius):\n",
        "    # fill here to calculate the area of a circle\n",
        "  return calc_area_of_circle\n",
        "\n",
        "a = 1\n",
        "while a > 0:\n",
        "  a = input(\"Input radius of a circle (positive float): \")\n",
        "  a = float(a)\n",
        "  for pi in (3.14, 3.14159, math.pi): # iteration(loop) with tuple\n",
        "    inner_func = # fill here\n",
        "    area = # fill here (use inner_func)\n",
        "    print(pi, \": \", area)\n",
        "\n"
      ],
      "execution_count": null,
      "outputs": [
        {
          "output_type": "stream",
          "name": "stdout",
          "text": [
            "Input radius of a circle (positive float): 0.5\n",
            "3.14 :  0.785\n",
            "3.14159 :  0.7853975\n",
            "3.141592653589793 :  0.7853981633974483\n",
            "Input radius of a circle (positive float): 0\n",
            "3.14 :  0.0\n",
            "3.14159 :  0.0\n",
            "3.141592653589793 :  0.0\n"
          ]
        }
      ]
    },
    {
      "cell_type": "markdown",
      "metadata": {
        "id": "vj2sU3f5d4FY"
      },
      "source": [
        "### Q.3. Fibonacchi Series\n",
        "\n",
        "Make a program to calculate Fibonacchi Series (You may learn it in mathematics).\n",
        "Fibonacchi Series = 1, 1, 2, 3, 5, 8, 13, 21, 34, ....\n",
        "\n",
        "Fibonacchi Series $a_n$ is expressed as the equation:\n",
        "\n",
        "$a_n = a_{n-1} + a_{n-2} $ $(n \\ge 2)$\n",
        "\n",
        "$a_1 = 1, a_0 = 1$\n",
        "\n",
        "Using a recursive call, implement the program below: "
      ]
    },
    {
      "cell_type": "code",
      "metadata": {
        "colab": {
          "base_uri": "https://localhost:8080/",
          "height": 665
        },
        "id": "HP3mlUrXOxR7",
        "outputId": "422154ee-c663-49be-a38a-2b493931a837"
      },
      "source": [
        "def fibonacchi(n):\n",
        "  # implement here (multiple line acceptable)\n",
        "\n",
        "n = 1\n",
        "while n >= 0:\n",
        "  n = input(\"Input n (zero or positive integer): \")\n",
        "  n = int(n)\n",
        "  print(\"a_\" + str(n) + \"=\", fibonacchi(n))\n",
        "\n"
      ],
      "execution_count": null,
      "outputs": [
        {
          "output_type": "stream",
          "name": "stdout",
          "text": [
            "Input n (zero or positive integer): 10\n",
            "a_10= 89\n",
            "Input n (zero or positive integer): 25\n",
            "a_25= 121393\n"
          ]
        },
        {
          "output_type": "error",
          "ename": "KeyboardInterrupt",
          "evalue": "ignored",
          "traceback": [
            "\u001b[0;31m---------------------------------------------------------------------------\u001b[0m",
            "\u001b[0;31mKeyboardInterrupt\u001b[0m                         Traceback (most recent call last)",
            "\u001b[0;32m/usr/local/lib/python3.7/dist-packages/ipykernel/kernelbase.py\u001b[0m in \u001b[0;36m_input_request\u001b[0;34m(self, prompt, ident, parent, password)\u001b[0m\n\u001b[1;32m    728\u001b[0m             \u001b[0;32mtry\u001b[0m\u001b[0;34m:\u001b[0m\u001b[0;34m\u001b[0m\u001b[0;34m\u001b[0m\u001b[0m\n\u001b[0;32m--> 729\u001b[0;31m                 \u001b[0mident\u001b[0m\u001b[0;34m,\u001b[0m \u001b[0mreply\u001b[0m \u001b[0;34m=\u001b[0m \u001b[0mself\u001b[0m\u001b[0;34m.\u001b[0m\u001b[0msession\u001b[0m\u001b[0;34m.\u001b[0m\u001b[0mrecv\u001b[0m\u001b[0;34m(\u001b[0m\u001b[0mself\u001b[0m\u001b[0;34m.\u001b[0m\u001b[0mstdin_socket\u001b[0m\u001b[0;34m,\u001b[0m \u001b[0;36m0\u001b[0m\u001b[0;34m)\u001b[0m\u001b[0;34m\u001b[0m\u001b[0;34m\u001b[0m\u001b[0m\n\u001b[0m\u001b[1;32m    730\u001b[0m             \u001b[0;32mexcept\u001b[0m \u001b[0mException\u001b[0m\u001b[0;34m:\u001b[0m\u001b[0;34m\u001b[0m\u001b[0;34m\u001b[0m\u001b[0m\n",
            "\u001b[0;32m/usr/local/lib/python3.7/dist-packages/jupyter_client/session.py\u001b[0m in \u001b[0;36mrecv\u001b[0;34m(self, socket, mode, content, copy)\u001b[0m\n\u001b[1;32m    802\u001b[0m         \u001b[0;32mtry\u001b[0m\u001b[0;34m:\u001b[0m\u001b[0;34m\u001b[0m\u001b[0;34m\u001b[0m\u001b[0m\n\u001b[0;32m--> 803\u001b[0;31m             \u001b[0mmsg_list\u001b[0m \u001b[0;34m=\u001b[0m \u001b[0msocket\u001b[0m\u001b[0;34m.\u001b[0m\u001b[0mrecv_multipart\u001b[0m\u001b[0;34m(\u001b[0m\u001b[0mmode\u001b[0m\u001b[0;34m,\u001b[0m \u001b[0mcopy\u001b[0m\u001b[0;34m=\u001b[0m\u001b[0mcopy\u001b[0m\u001b[0;34m)\u001b[0m\u001b[0;34m\u001b[0m\u001b[0;34m\u001b[0m\u001b[0m\n\u001b[0m\u001b[1;32m    804\u001b[0m         \u001b[0;32mexcept\u001b[0m \u001b[0mzmq\u001b[0m\u001b[0;34m.\u001b[0m\u001b[0mZMQError\u001b[0m \u001b[0;32mas\u001b[0m \u001b[0me\u001b[0m\u001b[0;34m:\u001b[0m\u001b[0;34m\u001b[0m\u001b[0;34m\u001b[0m\u001b[0m\n",
            "\u001b[0;32m/usr/local/lib/python3.7/dist-packages/zmq/sugar/socket.py\u001b[0m in \u001b[0;36mrecv_multipart\u001b[0;34m(self, flags, copy, track)\u001b[0m\n\u001b[1;32m    624\u001b[0m         \"\"\"\n\u001b[0;32m--> 625\u001b[0;31m         \u001b[0mparts\u001b[0m \u001b[0;34m=\u001b[0m \u001b[0;34m[\u001b[0m\u001b[0mself\u001b[0m\u001b[0;34m.\u001b[0m\u001b[0mrecv\u001b[0m\u001b[0;34m(\u001b[0m\u001b[0mflags\u001b[0m\u001b[0;34m,\u001b[0m \u001b[0mcopy\u001b[0m\u001b[0;34m=\u001b[0m\u001b[0mcopy\u001b[0m\u001b[0;34m,\u001b[0m \u001b[0mtrack\u001b[0m\u001b[0;34m=\u001b[0m\u001b[0mtrack\u001b[0m\u001b[0;34m)\u001b[0m\u001b[0;34m]\u001b[0m\u001b[0;34m\u001b[0m\u001b[0;34m\u001b[0m\u001b[0m\n\u001b[0m\u001b[1;32m    626\u001b[0m         \u001b[0;31m# have first part already, only loop while more to receive\u001b[0m\u001b[0;34m\u001b[0m\u001b[0;34m\u001b[0m\u001b[0;34m\u001b[0m\u001b[0m\n",
            "\u001b[0;32mzmq/backend/cython/socket.pyx\u001b[0m in \u001b[0;36mzmq.backend.cython.socket.Socket.recv\u001b[0;34m()\u001b[0m\n",
            "\u001b[0;32mzmq/backend/cython/socket.pyx\u001b[0m in \u001b[0;36mzmq.backend.cython.socket.Socket.recv\u001b[0;34m()\u001b[0m\n",
            "\u001b[0;32mzmq/backend/cython/socket.pyx\u001b[0m in \u001b[0;36mzmq.backend.cython.socket._recv_copy\u001b[0;34m()\u001b[0m\n",
            "\u001b[0;32m/usr/local/lib/python3.7/dist-packages/zmq/backend/cython/checkrc.pxd\u001b[0m in \u001b[0;36mzmq.backend.cython.checkrc._check_rc\u001b[0;34m()\u001b[0m\n",
            "\u001b[0;31mKeyboardInterrupt\u001b[0m: ",
            "\nDuring handling of the above exception, another exception occurred:\n",
            "\u001b[0;31mKeyboardInterrupt\u001b[0m                         Traceback (most recent call last)",
            "\u001b[0;32m<ipython-input-4-8e5b69e206e2>\u001b[0m in \u001b[0;36m<module>\u001b[0;34m()\u001b[0m\n\u001b[1;32m      8\u001b[0m \u001b[0mn\u001b[0m \u001b[0;34m=\u001b[0m \u001b[0;36m1\u001b[0m\u001b[0;34m\u001b[0m\u001b[0;34m\u001b[0m\u001b[0m\n\u001b[1;32m      9\u001b[0m \u001b[0;32mwhile\u001b[0m \u001b[0mn\u001b[0m \u001b[0;34m>=\u001b[0m \u001b[0;36m0\u001b[0m\u001b[0;34m:\u001b[0m\u001b[0;34m\u001b[0m\u001b[0;34m\u001b[0m\u001b[0m\n\u001b[0;32m---> 10\u001b[0;31m   \u001b[0mn\u001b[0m \u001b[0;34m=\u001b[0m \u001b[0minput\u001b[0m\u001b[0;34m(\u001b[0m\u001b[0;34m\"Input n (zero or positive integer): \"\u001b[0m\u001b[0;34m)\u001b[0m\u001b[0;34m\u001b[0m\u001b[0;34m\u001b[0m\u001b[0m\n\u001b[0m\u001b[1;32m     11\u001b[0m   \u001b[0mn\u001b[0m \u001b[0;34m=\u001b[0m \u001b[0mint\u001b[0m\u001b[0;34m(\u001b[0m\u001b[0mn\u001b[0m\u001b[0;34m)\u001b[0m\u001b[0;34m\u001b[0m\u001b[0;34m\u001b[0m\u001b[0m\n\u001b[1;32m     12\u001b[0m   \u001b[0mprint\u001b[0m\u001b[0;34m(\u001b[0m\u001b[0;34m\"a_\"\u001b[0m \u001b[0;34m+\u001b[0m \u001b[0mstr\u001b[0m\u001b[0;34m(\u001b[0m\u001b[0mn\u001b[0m\u001b[0;34m)\u001b[0m \u001b[0;34m+\u001b[0m \u001b[0;34m\"=\"\u001b[0m\u001b[0;34m,\u001b[0m \u001b[0mfibonacchi\u001b[0m\u001b[0;34m(\u001b[0m\u001b[0mn\u001b[0m\u001b[0;34m)\u001b[0m\u001b[0;34m)\u001b[0m\u001b[0;34m\u001b[0m\u001b[0;34m\u001b[0m\u001b[0m\n",
            "\u001b[0;32m/usr/local/lib/python3.7/dist-packages/ipykernel/kernelbase.py\u001b[0m in \u001b[0;36mraw_input\u001b[0;34m(self, prompt)\u001b[0m\n\u001b[1;32m    702\u001b[0m             \u001b[0mself\u001b[0m\u001b[0;34m.\u001b[0m\u001b[0m_parent_ident\u001b[0m\u001b[0;34m,\u001b[0m\u001b[0;34m\u001b[0m\u001b[0;34m\u001b[0m\u001b[0m\n\u001b[1;32m    703\u001b[0m             \u001b[0mself\u001b[0m\u001b[0;34m.\u001b[0m\u001b[0m_parent_header\u001b[0m\u001b[0;34m,\u001b[0m\u001b[0;34m\u001b[0m\u001b[0;34m\u001b[0m\u001b[0m\n\u001b[0;32m--> 704\u001b[0;31m             \u001b[0mpassword\u001b[0m\u001b[0;34m=\u001b[0m\u001b[0;32mFalse\u001b[0m\u001b[0;34m,\u001b[0m\u001b[0;34m\u001b[0m\u001b[0;34m\u001b[0m\u001b[0m\n\u001b[0m\u001b[1;32m    705\u001b[0m         )\n\u001b[1;32m    706\u001b[0m \u001b[0;34m\u001b[0m\u001b[0m\n",
            "\u001b[0;32m/usr/local/lib/python3.7/dist-packages/ipykernel/kernelbase.py\u001b[0m in \u001b[0;36m_input_request\u001b[0;34m(self, prompt, ident, parent, password)\u001b[0m\n\u001b[1;32m    732\u001b[0m             \u001b[0;32mexcept\u001b[0m \u001b[0mKeyboardInterrupt\u001b[0m\u001b[0;34m:\u001b[0m\u001b[0;34m\u001b[0m\u001b[0;34m\u001b[0m\u001b[0m\n\u001b[1;32m    733\u001b[0m                 \u001b[0;31m# re-raise KeyboardInterrupt, to truncate traceback\u001b[0m\u001b[0;34m\u001b[0m\u001b[0;34m\u001b[0m\u001b[0;34m\u001b[0m\u001b[0m\n\u001b[0;32m--> 734\u001b[0;31m                 \u001b[0;32mraise\u001b[0m \u001b[0mKeyboardInterrupt\u001b[0m\u001b[0;34m\u001b[0m\u001b[0;34m\u001b[0m\u001b[0m\n\u001b[0m\u001b[1;32m    735\u001b[0m             \u001b[0;32melse\u001b[0m\u001b[0;34m:\u001b[0m\u001b[0;34m\u001b[0m\u001b[0;34m\u001b[0m\u001b[0m\n\u001b[1;32m    736\u001b[0m                 \u001b[0;32mbreak\u001b[0m\u001b[0;34m\u001b[0m\u001b[0;34m\u001b[0m\u001b[0m\n",
            "\u001b[0;31mKeyboardInterrupt\u001b[0m: "
          ]
        }
      ]
    }
  ]
}