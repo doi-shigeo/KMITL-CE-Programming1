{
 "cells": [
  {
   "cell_type": "markdown",
   "metadata": {
    "colab_type": "text",
    "id": "view-in-github"
   },
   "source": [
    "<a href=\"https://colab.research.google.com/github/doi-shigeo/KMITL-CE-Programming1/blob/main/Programming1_Week01.ipynb\" target=\"_parent\"><img src=\"https://colab.research.google.com/assets/colab-badge.svg\" alt=\"Open In Colab\"/></a>"
   ]
  },
  {
   "cell_type": "markdown",
   "metadata": {
    "id": "kdC2OjOgg3zq"
   },
   "source": [
    "# 1st Week"
   ]
  },
  {
   "cell_type": "markdown",
   "metadata": {},
   "source": [
    "If you can see the Jupyter notebook, you can use Google Colaboratory!\n",
    "\n"
   ]
  },
  {
   "cell_type": "markdown",
   "metadata": {
    "id": "Rn3UjOD5QaBj"
   },
   "source": [
    "## Google Colab and Simple Python Program\n",
    "\n",
    "1. Copy the following program: `print(\"Hello, Python!\")`\n",
    "2. Paste it into the region to write a program.\n",
    "3. Click \"Play\" button on the left-side to run a program.\n",
    "4. You'll get a result of running the program at bottom of the program.\n",
    "\n",
    "The area below of this explanation is to run a program.\n",
    "Please paste the program `print(\"Hello, Python!\")` and run it by clicking the left \"play\" button."
   ]
  },
  {
   "cell_type": "code",
   "execution_count": null,
   "metadata": {},
   "outputs": [],
   "source": []
  },
  {
   "cell_type": "markdown",
   "metadata": {},
   "source": [
    "## Editing your message\n",
    "\n",
    "`print()` is a function to display messages on console.\n",
    "It displays a message enclosed between \" and \".\n",
    "`print(\"\")`, it means no message, displays empty.\n",
    "\n",
    "1. Please display the message \"C1/(Room) (No.) (Nickname)\" by using `print()` function.\n",
    "   For example, \"C1/1 49 Shigeo\", it looks like a chat :-)\n",
    "   \n",
    "Hints: You simply change the message in `print()` function.\n"
   ]
  },
  {
   "cell_type": "code",
   "execution_count": null,
   "metadata": {},
   "outputs": [],
   "source": []
  }
 ],
 "metadata": {
  "colab": {
   "authorship_tag": "ABX9TyP0g7LJcHxQDDkd3YOdCDgW",
   "collapsed_sections": [],
   "include_colab_link": true,
   "name": "Programming1_Week01.ipynb",
   "provenance": [],
   "toc_visible": true
  },
  "kernelspec": {
   "display_name": "Python 3",
   "language": "python",
   "name": "python3"
  },
  "language_info": {
   "codemirror_mode": {
    "name": "ipython",
    "version": 3
   },
   "file_extension": ".py",
   "mimetype": "text/x-python",
   "name": "python",
   "nbconvert_exporter": "python",
   "pygments_lexer": "ipython3",
   "version": "3.8.5"
  }
 },
 "nbformat": 4,
 "nbformat_minor": 1
}
