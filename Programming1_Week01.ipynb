{
  "nbformat": 4,
  "nbformat_minor": 0,
  "metadata": {
    "colab": {
      "name": "1st_ProgrammingI.ipynb",
      "provenance": [],
      "collapsed_sections": [],
      "toc_visible": true,
      "authorship_tag": "ABX9TyOAKbGIP6aZPw9IOcBkGK1S",
      "include_colab_link": true
    },
    "kernelspec": {
      "name": "python3",
      "display_name": "Python 3"
    }
  },
  "cells": [
    {
      "cell_type": "markdown",
      "metadata": {
        "id": "view-in-github",
        "colab_type": "text"
      },
      "source": [
        "<a href=\"https://colab.research.google.com/github/doi-shigeo/KMITL-CS-Programming1/blob/main/Programming1_Week01.ipynb\" target=\"_parent\"><img src=\"https://colab.research.google.com/assets/colab-badge.svg\" alt=\"Open In Colab\"/></a>"
      ]
    },
    {
      "cell_type": "markdown",
      "metadata": {
        "id": "NG_ZrB1X_WFB"
      },
      "source": [
        "# 1st class"
      ]
    },
    {
      "cell_type": "markdown",
      "metadata": {
        "id": "kdC2OjOgg3zq"
      },
      "source": [
        "##1st Work\n"
      ]
    },
    {
      "cell_type": "markdown",
      "metadata": {
        "id": "Rn3UjOD5QaBj"
      },
      "source": [
        "### Google Colab and Simple Python Program\n",
        "Objective: You'll understand how to run a Python program in Google Colab.\n",
        "\n",
        "Here is an instruction:\n",
        "1. Copy the following program: `print(\"Hello, Python!\")`\n",
        "2. Paste it into the region to write a program.\n",
        "3. Click \"Play\" button on the left-side to run a program.\n",
        "4. You'll get a result of running the program at bottom of the program.\n",
        "\n",
        "The bottom area of this explanation is to paste and run a program."
      ]
    },
    {
      "cell_type": "code",
      "metadata": {
        "id": "VMj0o7PbhQC6"
      },
      "source": [
        ""
      ],
      "execution_count": null,
      "outputs": []
    },
    {
      "cell_type": "markdown",
      "metadata": {
        "id": "Uab-zVYsVxIO"
      },
      "source": [
        "Then, please write and run a program to display the message as you like, except for \"Hello, Python\"."
      ]
    },
    {
      "cell_type": "code",
      "metadata": {
        "id": "caoY6stAYJNP"
      },
      "source": [
        ""
      ],
      "execution_count": null,
      "outputs": []
    },
    {
      "cell_type": "markdown",
      "metadata": {
        "id": "xQKSdkeAkqaq"
      },
      "source": [
        "##2nd Work\n",
        "\n",
        "\n"
      ]
    },
    {
      "cell_type": "markdown",
      "metadata": {
        "id": "oXx66sDlQleF"
      },
      "source": [
        "### Quote a string \n",
        "To quote a string, you can use either \" (double-quote) or ' (single-quote).\n",
        "\n",
        "Change the program to display \"Hello, Python\" using **single-quotes** to quote the string."
      ]
    },
    {
      "cell_type": "code",
      "metadata": {
        "id": "F_KOiDvuE3sH"
      },
      "source": [
        ""
      ],
      "execution_count": null,
      "outputs": []
    },
    {
      "cell_type": "markdown",
      "metadata": {
        "id": "qhseZ3q4E4Pl"
      },
      "source": [
        "But the start and the end of the string must be matched. In case of string including both a single-quote and a double-quote, **you must put \\ (backslash)** to disable the special meaning of the single-quote or double-quote. It is also said \"Escape\".\n",
        "\n",
        "These sentenses are intended to display \"It'll rain\", but the incorrect one will be caught an error.\n",
        "- Incorrect: ``print('It'll rain.')``\n",
        "- Correct: ``print('It\\'ll rain.')``"
      ]
    },
    {
      "cell_type": "markdown",
      "metadata": {
        "id": "1MqyWTVM-0QI"
      },
      "source": [
        "1. Change the message as you like, but including at least one single-quote(`'`) in the message.\n",
        "2. Change the message as you like, but including at least one double-quote(`\"`) in the message.\n"
      ]
    },
    {
      "cell_type": "code",
      "metadata": {
        "id": "GZ_jx-zi-1ZF"
      },
      "source": [
        ""
      ],
      "execution_count": null,
      "outputs": []
    },
    {
      "cell_type": "markdown",
      "metadata": {
        "id": "c55ilepZ_IWJ"
      },
      "source": [
        "You want to display the message, **\"This is Joe's.\"** (i.*e*. including one single-quote and two double-quote).\n",
        "\n",
        "Please write a program to display the message.\n"
      ]
    },
    {
      "cell_type": "code",
      "metadata": {
        "id": "lCwK3daw_F70"
      },
      "source": [
        ""
      ],
      "execution_count": null,
      "outputs": []
    },
    {
      "cell_type": "markdown",
      "metadata": {
        "id": "LzPzyKujoEks"
      },
      "source": [
        "##3rd Work\n",
        "Objective: You'll understand concepts of variables, data types. In addition, Python automatically allocate the data types of a variable.\n",
        "\n",
        "\n",
        "\n",
        "\n",
        "\n",
        "Here is an instruction:\n",
        "\n",
        "Please make a program satisfying the following specifications:\n",
        "1. Substituting `10` of an integer number into the variable named `x` .\n",
        "2. Substituting `1.0` of a real number into the variable named `f` .\n",
        "3. Substituting `\"Enjoy\"` of a string into the variable named `z` .\n",
        "4. Printing the values of `x`, `y` and `z`.\n",
        "5. Printing the data types of `x`, `y` and `z`.\n",
        "\n",
        "Notice: You don't have to take care of data types of variables.\n"
      ]
    },
    {
      "cell_type": "markdown",
      "metadata": {
        "id": "UPgyZs3kS5Us"
      },
      "source": [
        "###Data Type (int, float, str)\n",
        "In this work, we consider only simple data types in Python.\n",
        "\n",
        "*   `int` means an integer number. e.g. 1, 3, 0, -7, ...\n",
        "*   `float` means a real number. e.g. 3.1, 2.3, -1.1, ...\n",
        "*   `str` means a string. To express a string, you must quote the string with single-quote(') or double-quote(\"). e.g. \"Hello, Python!\", 'Good morning'"
      ]
    },
    {
      "cell_type": "markdown",
      "metadata": {
        "id": "FsYl0wgeTAwI"
      },
      "source": [
        "###Variable\n",
        "You can store a value into a variable.\n",
        "You can name a variable with some exceptions.\n",
        "\n",
        "Substituting a value into a variable:  \n",
        "When you want to substitute a value into a variable, you can use `=` operator.\n",
        "The following lines are examples to substitute a value into a variable.\n",
        "\n",
        "```\n",
        "x = 3        # substitute 3 of integer number into x\n",
        "f = 3.0      # substitute 3.0 of real number into f (so f is different from x)\n",
        "y = 1.5      # substitute 1.5 of real number into y\n",
        "z = \"HELLO\"  # substitute \"HELLO\" of string into z. You can use ' instead of \" .\n",
        "```\n",
        "\n",
        "When you want to print a value in a variable, you use `print()` function.\n",
        "Python allocate the data type automatically, so you sometime have to check a data type of the variable.\n",
        "\n",
        "```\n",
        "print(x)       # print the value of x\n",
        "print(type(x)) # print the data type of x\n",
        "```"
      ]
    },
    {
      "cell_type": "code",
      "metadata": {
        "id": "CPfqdV9VB4AP"
      },
      "source": [
        ""
      ],
      "execution_count": 1,
      "outputs": []
    },
    {
      "cell_type": "markdown",
      "metadata": {
        "id": "BWP1sC5q_XlY"
      },
      "source": [
        "# 2nd class"
      ]
    },
    {
      "cell_type": "markdown",
      "metadata": {
        "id": "FXTLAp-DG-bA"
      },
      "source": [
        "## 1st Work\n",
        "\n",
        "Objective: You'll understand the basic arithmetic operations.\n",
        "\n",
        "\n",
        "\n"
      ]
    },
    {
      "cell_type": "markdown",
      "metadata": {
        "id": "TFFxnWwGTToz"
      },
      "source": [
        "### Arithmetic Operations\n",
        "\n",
        "You can calculate the following operators:\n",
        "```\n",
        "+ : Addition  \n",
        "- : Subtraction  \n",
        "* : Multiplication  \n",
        "/ : Division  \n",
        "% : Modulo  \n",
        "// : Floor Division  \n",
        "** : Exponentation  \n",
        "```\n",
        "\n",
        "You can use variables and constants to calculate.\n",
        "\n",
        "For example, In case you want to calculate `3 * y`, where y is a variable, you can write a Program A.  \n",
        "```\n",
        "y = 100   # a numerical value\n",
        "print(y)\n",
        "y = 3 * y # multiplication \n",
        "print(y)\n",
        "```\n",
        "\n",
        "\n",
        "For example, In case you want to calculate `x + y`, you can use Program A or Program B.  \n",
        "\n",
        "Program A:\n",
        "```\n",
        "x = 3\n",
        "y = 4\n",
        "print(x + y)\n",
        "```\n",
        "\n",
        "Program B:\n",
        "```\n",
        "x = 3\n",
        "y = 4\n",
        "z = x + y\n",
        "print(z)\n",
        "```\n",
        "You can write the expression directly in print().\n",
        "Moreover, you calculate the expression and substitute its result into a variable.\n"
      ]
    },
    {
      "cell_type": "markdown",
      "metadata": {
        "id": "-utnKDFZTjLU"
      },
      "source": [
        "### Work\n",
        "Please make a program satisfying the following specifications:\n",
        "\n",
        "1. Substitute 5 of an **integer number** into the variable named x .\n",
        "2. Substitute 3 of an **integer number** into the variable named y .\n",
        "3. Calculate and print the following expression: `x+y`, `x-y`, `x*y`, `x/y`, `x%y`, `x//y` and `x**y`, using `print()` function."
      ]
    },
    {
      "cell_type": "code",
      "metadata": {
        "id": "Jfs_ZpNZa9Y2"
      },
      "source": [
        ""
      ],
      "execution_count": null,
      "outputs": []
    },
    {
      "cell_type": "markdown",
      "metadata": {
        "id": "RKX9vMQpa-Fk"
      },
      "source": [
        "## 2nd Work\n",
        "\n",
        "Objective: You'll understand the concept of **implicit 'cast'**. Cast means that Python interpreter automatically uses the appropriate data type. \n",
        "\n",
        "### Cast (convert a data type into a different type implicitly)\n",
        "Please make a program satisfying the following specifications:\n",
        "1. Substitute 5 of an **integer number** into the variable named `x` .\n",
        "2. Substitute 3.0 of a **real number** into the variable named `f` .\n",
        "3. Calculate and print `x+y`, `x-y`, `x*y`, `x/y`, `x%y`, `x//y` and `x**y`, using `print()` function.\n",
        "4. Print data type of the results of arithmetic operations in 3.\n",
        "5.Calculate and print `y+x`, `y-x`, `y*x`, `y/x`, `y%x`, `y//x` and `y**x`, using `print()` function.\n",
        "6. Print data type of the results of arithmetic operations in 5.\n",
        "\n",
        "What types are printed in your result? Let's discuss with another member.\n",
        "\n",
        "\n",
        "\n"
      ]
    },
    {
      "cell_type": "code",
      "metadata": {
        "id": "2_zCxMf4P8nE"
      },
      "source": [
        ""
      ],
      "execution_count": null,
      "outputs": []
    },
    {
      "cell_type": "markdown",
      "metadata": {
        "id": "ZBIg50PyP9NP"
      },
      "source": [
        "### Cast (convert a data type into a different type explicitly)\n",
        "You can cast the data types explicitly **if possible**.\n",
        "\n",
        "`y = float(x)`: the data type of `y` is `float`.  \n",
        "`y = int(x)`: the data type of `y` is `int`.  \n",
        "`y = str(x)`: the data type of `y` is `str`.  \n",
        "\n",
        "if `x` can't be converted into desired data type, Python generates an error. \n",
        "\n",
        "Please make a program satisfying the following specifications:\n",
        "1. Let me assume that the data type `x` is `int`, that of `y` is `float` and that of `z` is `str`.\n",
        "2. You substitute a real number containing a decimal point into `x`.\n",
        "3. You convert `x` (of `float`) into the data type of `int` and substitute the `x` of `int` into the variable named `a`.\n",
        "Last, you print `a` and the data type of `a`.\n",
        "Try to use `int()`. \n",
        "4. You substitute an integer number into `y`.\n",
        "5. You convert `y` (of `integer`) into the data type of `float` and substitute `y` of `float` into the variable named `b`. \n",
        "Last, you print `b` and the data type of `b`.\n",
        "Try to use `float()`."
      ]
    },
    {
      "cell_type": "code",
      "metadata": {
        "id": "q6Q5QPmjF1KA",
        "colab": {
          "base_uri": "https://localhost:8080/"
        },
        "outputId": "ecc44672-1c0c-4a5a-ceec-af8f621a4efc"
      },
      "source": [
        ""
      ],
      "execution_count": null,
      "outputs": [
        {
          "output_type": "stream",
          "text": [
            "0\n",
            "<class 'int'>\n"
          ],
          "name": "stdout"
        }
      ]
    },
    {
      "cell_type": "markdown",
      "metadata": {
        "id": "jUQ41Dn5mwhQ"
      },
      "source": [
        "## 3rd Work (A RSA cryptosystem example)\n",
        "\n",
        "Objective: You'll understand how RSA cryptosystem do calculate.\n",
        "\n",
        "Please make the program complying with the following procedure.\n",
        "1. Substitute 5 of an integer number into the variable named `e`.\n",
        "2. Substitute 13 of an integer number into the variable named `p`.\n",
        "3. Substitute 3 of an integer number into the variable named `q`.\n",
        "4. Substitute 5 of an integer number into the variable named `d`.\n",
        "   (`d` is set to satisfy the following condition: (`d` * `e`) % ((`p`-1) * (`q`-1)) = 1\n",
        "5. Calculate `N` = `p` * `q`\n",
        "5. You can set `C` of integer number and the range of `C` is from 1 to (`N`-1).\n",
        "6. Calculate `M` = (`C` ** `e`) % `N`\n",
        "7. Calculate `D` = (`M` ** `d`) % `N`\n",
        "\n",
        "What results of D will you get? Let's try different C and compare C to D.\n",
        "\n",
        "Note: e, p, q are prime numbers, which means that it can be divided by one and itself.  \n",
        "Further Learning: e, N are **public keys**, whereas d, p, q are **secret keys**.\n",
        "\n",
        "The process to calculate M is **encryption** and the process to calculate D is **decryption** in the RSA cryptosystem.\n",
        "\n"
      ]
    },
    {
      "cell_type": "code",
      "metadata": {
        "id": "hd3Oeuf5mDHW"
      },
      "source": [
        ""
      ],
      "execution_count": null,
      "outputs": []
    },
    {
      "cell_type": "markdown",
      "metadata": {
        "id": "L0WUhb6_FzjQ"
      },
      "source": [
        "## 4th Work\n",
        "\n",
        "Objective: You'll understand some operators for string variables.\n",
        "\n",
        "A string is a ordered set of characters.\n",
        "String starts with 0 of **index**. The index is allocated by 0, 1, 2, ...\n",
        "You can get a substring using a [] operator. \n",
        "\n",
        "### Substring\n",
        "```\n",
        "[n] : get a substring of nth character\n",
        "[n:m] : get a substring of nth character to (m-1)th character\n",
        "[n:] : get a substring after nth character\n",
        "[:n] : get a substring before nth character\n",
        "```\n",
        "\n",
        "### Example\n",
        "```\n",
        "s = \"Hello!\"  \n",
        "print(s[0])   # 'H'\n",
        "print(s[4])   # 'o'\n",
        "print(s[1:3]) # 'el'\n",
        "print(s[3:])  # 'lo!' \n",
        "print(s[:2])  # 'Hel'\n",
        "```\n",
        "\n",
        "Please make a program satisfying the following specifications:\n",
        "1. Substitute \"Hello, John. How are you today?\" into the variable named `s`.\n",
        "2. Print from 13th character to 15th character of `s`. What word will you find?\n",
        "3. Print after 17th character of `s`. What words will you find?\n",
        "4. Print the sentense \"Hello, John\" of s, using the expression of substring.\n"
      ]
    },
    {
      "cell_type": "code",
      "metadata": {
        "id": "3eSwVcNBQ8zn"
      },
      "source": [
        "i = input()\n",
        "print(int(i))"
      ],
      "execution_count": null,
      "outputs": []
    },
    {
      "cell_type": "code",
      "metadata": {
        "colab": {
          "base_uri": "https://localhost:8080/"
        },
        "id": "8ShOTvnjTHLu",
        "outputId": "1631fc04-4e01-402a-9b71-fdd03143f1f1"
      },
      "source": [
        "e = 5\n",
        "p = 13\n",
        "q = 3\n",
        "d = 5\n",
        "\n",
        "N=p*q\n",
        "\n",
        "M = input(\"Enter a number of the range from 1 to \" + str(N-1) ; \": \")\n",
        "\n",
        "C = int(M) ** e % N\n",
        "\n",
        "print(\"Encrypted:\", C)\n",
        "\n",
        "L = C ** d % N\n",
        "\n",
        "print(\"Decrypted:\", L)\n",
        "\n",
        "print(\"hello,\", \"how are you\", \"fine, thank you\", sep=\".\")\n",
        "print(\"hhello,\", end=\"hoge\")\n",
        "\n"
      ],
      "execution_count": null,
      "outputs": [
        {
          "output_type": "stream",
          "text": [
            "Enter a number of the range from 1 to 3811\n",
            "Encrypted: 20\n",
            "Decrypted: 11\n",
            "hello,.how are you.fine, thank you\n",
            "hhello,hoge"
          ],
          "name": "stdout"
        }
      ]
    }
  ]
}