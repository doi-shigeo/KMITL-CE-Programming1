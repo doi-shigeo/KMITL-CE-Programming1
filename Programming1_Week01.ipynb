{
  "cells": [
    {
      "cell_type": "markdown",
      "metadata": {
        "id": "view-in-github",
        "colab_type": "text"
      },
      "source": [
        "<a href=\"https://colab.research.google.com/github/doi-shigeo/KMITL-CE-Programming1/blob/main/Programming1_Week01.ipynb\" target=\"_parent\"><img src=\"https://colab.research.google.com/assets/colab-badge.svg\" alt=\"Open In Colab\"/></a>"
      ]
    },
    {
      "cell_type": "markdown",
      "metadata": {
        "id": "kdC2OjOgg3zq"
      },
      "source": [
        "# 1st Week"
      ]
    },
    {
      "cell_type": "markdown",
      "metadata": {
        "id": "_Vn299V0R6lP"
      },
      "source": [
        "If you can see the Jupyter notebook, you can use Google Colaboratory!\n",
        "\n"
      ]
    },
    {
      "cell_type": "markdown",
      "source": [
        "# Confirming version of Python\n",
        "\n",
        "You can get the installed Python version as follows.\n",
        "\"!\" indicates to run the command in Google Colab. If you want to know what version is installed on your laptop, try the below from a terminal or a command prompt.\n",
        "```\n",
        "python --version\n",
        "```\n",
        "---\n",
        "\n",
        "You got the version like:\n",
        "```\n",
        "Python 3.7.13\n",
        "```\n",
        "The version indicates:\n",
        "- 3: major version\n",
        "- 7: minor version\n",
        "- 13: revivision \n",
        "\n",
        "The latest version is 3.10.4 (as of 09/May/2022). \n",
        "The major version is important for implementing program. if the major version is different, your program may not work. generally the newer version Python supports new features.\n"
      ],
      "metadata": {
        "id": "LNFk3k5ySL7k"
      }
    },
    {
      "cell_type": "code",
      "source": [
        "!python --version"
      ],
      "metadata": {
        "id": "eTdOkG5VR8Rj"
      },
      "execution_count": null,
      "outputs": []
    },
    {
      "cell_type": "markdown",
      "metadata": {
        "id": "Rn3UjOD5QaBj"
      },
      "source": [
        "## Google Colab and Simple Python Program\n",
        "\n",
        "1. Copy the following program: `print(\"Hello, Python!\")`\n",
        "2. Paste it into the region to write a program.\n",
        "3. Click \"Play\" button on the left-side to run a program.\n",
        "4. You'll get a result of running the program at bottom of the program.\n",
        "\n",
        "The area below of this explanation is to run a program.\n",
        "Please paste the program `print(\"Hello, Python!\")` and run it by clicking the left \"play\" button."
      ]
    },
    {
      "cell_type": "code",
      "execution_count": null,
      "metadata": {
        "id": "xAEHljDSR6lR"
      },
      "outputs": [],
      "source": [
        ""
      ]
    },
    {
      "cell_type": "markdown",
      "metadata": {
        "id": "Qs03cXSiR6lS"
      },
      "source": [
        "## Editing your message\n",
        "\n",
        "`print()` is a function to display messages on console.\n",
        "It displays a message enclosed between \" and \".\n",
        "`print(\"\")`, it means no message, displays empty.\n",
        "\n",
        "1. Please display the message \"(No.) (Nickname)\" by using `print()` function.\n",
        "   For example, \"49 Shigeo\", it looks like a chat :-)\n",
        "   \n",
        "Hints: You simply change the message in `print()` function.\n"
      ]
    },
    {
      "cell_type": "code",
      "execution_count": null,
      "metadata": {
        "id": "mJczxSNeR6lU"
      },
      "outputs": [],
      "source": [
        ""
      ]
    }
  ],
  "metadata": {
    "colab": {
      "collapsed_sections": [],
      "name": "Programming1_Week01.ipynb",
      "provenance": [],
      "toc_visible": true,
      "include_colab_link": true
    },
    "kernelspec": {
      "display_name": "Python 3",
      "language": "python",
      "name": "python3"
    },
    "language_info": {
      "codemirror_mode": {
        "name": "ipython",
        "version": 3
      },
      "file_extension": ".py",
      "mimetype": "text/x-python",
      "name": "python",
      "nbconvert_exporter": "python",
      "pygments_lexer": "ipython3",
      "version": "3.8.5"
    }
  },
  "nbformat": 4,
  "nbformat_minor": 0
}