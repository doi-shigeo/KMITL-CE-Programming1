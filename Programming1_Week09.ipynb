{
  "nbformat": 4,
  "nbformat_minor": 0,
  "metadata": {
    "colab": {
      "name": "Programming1_Week09.ipynb",
      "provenance": [],
      "authorship_tag": "ABX9TyPUlffLrMunX+TnqkVChQuu",
      "include_colab_link": true
    },
    "kernelspec": {
      "name": "python3",
      "display_name": "Python 3"
    },
    "language_info": {
      "name": "python"
    }
  },
  "cells": [
    {
      "cell_type": "markdown",
      "metadata": {
        "id": "view-in-github",
        "colab_type": "text"
      },
      "source": [
        "<a href=\"https://colab.research.google.com/github/doi-shigeo/KMITL-CE-Programming1/blob/main/Programming1_Week09.ipynb\" target=\"_parent\"><img src=\"https://colab.research.google.com/assets/colab-badge.svg\" alt=\"Open In Colab\"/></a>"
      ]
    },
    {
      "cell_type": "markdown",
      "metadata": {
        "id": "UqHyN5BHrv7h"
      },
      "source": [
        "# Function\n",
        "\n",
        "## Introduction\n",
        "Function is powerful tool for programmers.\n",
        "Generally a function accepts inputs and output something based on the inputs.\n",
        "You learned \"function\" in mathematics, the conceptual meaning is same.\n",
        "\n",
        "One of advantage using function is that you can use same functionality repeatedly. Also, programmers may implement a function when they write an event handler. \n",
        "\n",
        "(event handler: if an event(ex. clicking a button, key is pressed, ...) is raised, the program will do the function of event handler.)\n",
        "\n",
        "For computer system developing, you will take a **\"Unit test\"** to release the system. The unit test is based on each function. \n",
        "\n",
        "## Test first\n",
        "For agile development, developers generally examine functions automatically because the examination can be done even if they sleep.\n",
        "For automated examination of functions, **they write a program to examine functions**. We'll explain later.\n",
        "\n",
        "## Function\n",
        "### Declaration of a funcion\n",
        "\n",
        "It depends on a programming language.\n",
        "\n",
        "In python, programmers declare a function like:\n",
        "\n",
        "```\n",
        "def get_area_of_triangle(b, h):\n",
        "  r = b * h\n",
        "  a = r / 2\n",
        "  return a\n",
        "```  \n",
        "In the first line starting with \"def\":\n",
        "- **def** means it starts a function declaration.\n",
        "- **get_area_of_triangle** means a name of the function. You use this name to call the function.\n",
        "- (**b, h**) means arguments of the function. In this case, the function takes two arguments. You must generally give arguments to call the function. If no argument is required, you write opening round bracket and closing round bracket consecutively like below.\n",
        "\n",
        "```\n",
        "def a_function():\n",
        "  # omit\n",
        "```\n",
        "\n",
        "- at the end of line starting with **def**, you must put **':'** (like if, for and while statement).\n",
        "\n",
        "In the second line and third line:\n",
        "- These lines mean a body of the function. You can implement the body by using python statement like 'if', 'for', 'while', and so on. \n",
        "- You must indent lines below of the declaration statement line.\n",
        "\n",
        "In the fourth line:\n",
        "- A function must have a return statement at the end of the function. If you want to return a value to the caller, you must specify a value or a variable in \"return\" statement. In this case below, the program returns the value of variable \"a\".\n",
        "\n",
        "```\n",
        "return a\n",
        "``` \n",
        "\n",
        "If you don't have to return any value to the caller, then you can write:\n",
        "```\n",
        "return\n",
        "```\n",
        "In this case, it returns \"None\", it means no data in python.\n",
        "\n",
        "### Calling (Invoking) a function\n",
        "When calling a function, you can call the function described above like this:\n",
        "```\n",
        "area = get_area_of_triangle(10, 20)\n",
        "print(\"Baseline = 10, Height = 20, Area=\", area)\n",
        "area = get_area_of_triangle(h = 20, b = 10)\n",
        "print(\"Baseline = 10, Height = 20, Area=\", area)\n",
        "```\n",
        "When calling a function, write the function name to call and set required arguments.\n",
        "In the first line, the given arguments are 10 and 20, 10 corresponds to the variable `b` in the function and 20 corresponds to the variable `h`. \n",
        "You can set variables as arguments.\n",
        "\n",
        "In the third line, it does not matter if the order of the arguments is not followed by specifying the corresponding arguments explicitly in the function declaration.\n",
        "\n",
        "Generally a function declaration is above of a caller statement.\n",
        "\n",
        "\n",
        "\n"
      ]
    },
    {
      "cell_type": "markdown",
      "metadata": {
        "id": "wdvPZUlrDwIG"
      },
      "source": [
        "### Call by value, Call by reference\n",
        "When you give variables as function arguments, you must be aware that the variables can be changed if you made an alternation to the variable.\n",
        "\n",
        "Let us assume you made an alternation to the variable of arguments.\n",
        "When you go back to the main, below is the description whether the variable is changed or not: \n",
        "- Not changed: int, float, bool, string\n",
        "- Changed: list, set, dictionary "
      ]
    },
    {
      "cell_type": "markdown",
      "metadata": {
        "id": "TnM92TD5fBwl"
      },
      "source": [
        "Example: Function(1): Function Declaration and Calling a function"
      ]
    },
    {
      "cell_type": "code",
      "metadata": {
        "id": "W4EZ42AAfIEk"
      },
      "source": [
        "def subtract_function(a, b):\n",
        "  c = a - b\n",
        "  return c\n",
        "\n",
        "c = subtract_function(5,6)\n",
        "print(c)\n",
        "d = subtract_function(6,5)\n",
        "print(d)\n",
        "e = subtract_function(b=6, a=5)\n",
        "print(e)\n",
        "\n"
      ],
      "execution_count": null,
      "outputs": []
    },
    {
      "cell_type": "markdown",
      "metadata": {
        "id": "L8QDBo3qm5pF"
      },
      "source": [
        "Example: Function(2): You can write loop(s) and if(s) inside of a function"
      ]
    },
    {
      "cell_type": "code",
      "metadata": {
        "id": "QeU186vwnC4n"
      },
      "source": [
        "def sum(n):\n",
        "  s = 0\n",
        "  for value in range(n+1):\n",
        "    s += value\n",
        "  return s\n",
        "\n",
        "print(sum(5))"
      ],
      "execution_count": null,
      "outputs": []
    },
    {
      "cell_type": "markdown",
      "metadata": {
        "id": "P-3DxXWWsosW"
      },
      "source": [
        "Exapmple: Function(3): You can set and return a list (and tuple, dictionary, and so on)\n",
        "\n"
      ]
    },
    {
      "cell_type": "code",
      "metadata": {
        "colab": {
          "base_uri": "https://localhost:8080/"
        },
        "id": "Cmb7nIe3s4iv",
        "outputId": "72a2135b-49a8-4837-da1f-b0e7bef5d123"
      },
      "source": [
        "def remove_odd(a_list):\n",
        "  r_list = []\n",
        "  for element in a_list:\n",
        "    if element % 2 == 1:\n",
        "      pass # do nothing \n",
        "    else:\n",
        "      r_list.append(element)\n",
        "  return r_list\n",
        "\n",
        "l = [1, 2, 4, 5, 9, 6, 0]\n",
        "print(remove_odd(l))\n",
        "print(l)\n"
      ],
      "execution_count": 1,
      "outputs": [
        {
          "output_type": "stream",
          "name": "stdout",
          "text": [
            "[2, 4, 6, 0]\n",
            "[1, 2, 4, 5, 9, 6, 0]\n"
          ]
        }
      ]
    },
    {
      "cell_type": "markdown",
      "metadata": {
        "id": "cLcEWk8j4ZMD"
      },
      "source": [
        "Example: Function(4): call by value vs. call by reference"
      ]
    },
    {
      "cell_type": "code",
      "metadata": {
        "id": "1d45ZcfT4duQ",
        "colab": {
          "base_uri": "https://localhost:8080/"
        },
        "outputId": "e6655c0d-12eb-42d1-f179-85c36e93b376"
      },
      "source": [
        "def increment_value(v):\n",
        "  v += 1\n",
        "  return v\n",
        "\n",
        "def appends(s):\n",
        "  s += \"hoge\"\n",
        "  return s\n",
        "\n",
        "\n",
        "# each element in a_list also incremented\n",
        "def increment_list(a_list):\n",
        "  i = 0\n",
        "  while i < len(a_list):\n",
        "    a_list[i] += 1\n",
        "    i += 1\n",
        "\n",
        "  return a_list\n",
        "\n",
        "# call by value (integer, float, bool(True, False), string)\n",
        "val = 10\n",
        "print(increment_value(val))\n",
        "print(val) # val isn't changed. \n",
        "\n",
        "# call by reference (list, dictionary, set)\n",
        "l = [0, 4, 5]\n",
        "print(increment_list(l))\n",
        "print(l) # please be aware of modification to list \"l\".\n"
      ],
      "execution_count": 3,
      "outputs": [
        {
          "output_type": "stream",
          "name": "stdout",
          "text": [
            "fugahoge\n",
            "fuga\n",
            "11\n",
            "10\n",
            "[1, 5, 6]\n",
            "[1, 5, 6]\n"
          ]
        }
      ]
    }
  ]
}