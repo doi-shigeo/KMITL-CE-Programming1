{
  "nbformat": 4,
  "nbformat_minor": 0,
  "metadata": {
    "colab": {
      "name": "Programming1_Week06.ipynb",
      "provenance": [],
      "collapsed_sections": [],
      "toc_visible": true,
      "authorship_tag": "ABX9TyNaXK1woN/wukLHzV1T+bmk",
      "include_colab_link": true
    },
    "kernelspec": {
      "name": "python3",
      "display_name": "Python 3"
    },
    "language_info": {
      "name": "python"
    }
  },
  "cells": [
    {
      "cell_type": "markdown",
      "metadata": {
        "id": "view-in-github",
        "colab_type": "text"
      },
      "source": [
        "<a href=\"https://colab.research.google.com/github/doi-shigeo/KMITL-CE-Programming1/blob/main/Programming1_Week06.ipynb\" target=\"_parent\"><img src=\"https://colab.research.google.com/assets/colab-badge.svg\" alt=\"Open In Colab\"/></a>"
      ]
    },
    {
      "cell_type": "markdown",
      "metadata": {
        "id": "pR4OLGV5OKGs"
      },
      "source": [
        "\n",
        "# 6th week\n",
        "## Strings"
      ]
    },
    {
      "cell_type": "markdown",
      "metadata": {
        "id": "UZ8UvJT1RTWq"
      },
      "source": [
        "### Introduction\n",
        "\"String\" is a sequence of characters. \n",
        "You use a string when using `print()` function like \n",
        "`print('Hello, Python')`. 'Hello, Python', between parentheses, is a string. A string is quoted by single-quotes or double-quotes. \n",
        "\n",
        "An empty string is represented \"\".\n",
        "If you make a string by appending something, you may need to initialize the string as empty.\n",
        "\n",
        "\n"
      ]
    },
    {
      "cell_type": "markdown",
      "metadata": {
        "id": "rvW17xfbY9jB"
      },
      "source": [
        "### Make a string with a single line\n",
        "You can generate a string like this program below.\n",
        "Please recall the material of the first week.\n",
        "\n",
        "```\n",
        "str_1 = \"This is a string\"\n",
        "s = 'Who\\'s next?'\n",
        "empt = \"\"\n",
        "print(str_1) # This is a string\n",
        "print(s)     # Who's next?\n",
        "print(empty)\n",
        "```\n"
      ]
    },
    {
      "cell_type": "code",
      "metadata": {
        "id": "A-6uUCdJhlA3"
      },
      "source": [
        "str_1 = \"This is a string\"\n",
        "s = 'Who\\'s next?'\n",
        "empty = \"\"\n",
        "print(str_1) # This is a string\n",
        "print(s)     # Who's next?\n",
        "print(empty) # Nothing to print"
      ],
      "execution_count": null,
      "outputs": []
    },
    {
      "cell_type": "markdown",
      "metadata": {
        "id": "vuv0iXyrMqRa"
      },
      "source": [
        "You can also do the following:\n",
        "*   Concatenate strings with the operator '`+`' \n",
        "*   Repeat a string with the operator '`*`'\n",
        "\n",
        "Code is below:\n",
        "```\n",
        "string1 = \"Goodbye, Python2!\" + \" Hello, Python3! \" \n",
        "string2 = \"Hi \" * 5\n",
        "string3 = \"Hello, \" * 2 + \"Goodbye\"\n",
        " \n",
        "print(string1)\n",
        "print(string2)\n",
        "print(string3)\n",
        "```\n"
      ]
    },
    {
      "cell_type": "code",
      "metadata": {
        "id": "gvJSnNFLNMKx"
      },
      "source": [
        "string1 = \"Goodbye, Python2!\" + \" Hello, Python3! \" \n",
        "string2 = \"Hi \" * 5\n",
        "string3 = \"Hello, \" * 2 + \"Goodbye\"\n",
        " \n",
        "print(string1)\n",
        "print(string2)\n",
        "print(string3)"
      ],
      "execution_count": null,
      "outputs": []
    },
    {
      "cell_type": "markdown",
      "metadata": {
        "id": "XMAcXD-cZAB0"
      },
      "source": [
        "### Make a string with multiple lines\n",
        "\n",
        "If you want to generate a string with multiple lines, \n",
        "\n",
        "You can use `'\\n'` to represent the end of each line.\n",
        "\n",
        "If you want to concatenate two strings, you can use `'+'` operator.\n",
        "\n",
        "And in this case the statement uses multiple lines, so you can use `\\` to represent line continuation. After `\\` of line continuation, please be careful not to append any characters, including spaces.\n",
        "```\n",
        "desc = \\\n",
        "\"Computer security, cybersecurity or information technology security \\n\" + \\\n",
        "\"(IT security) is the protection of computer systems and networks \\n\" + \\\n",
        "\"from information disclosure, theft of or damage to their hardware, \\n\" + \\\n",
        "\"software, or electronic data, as well as from the disruption or \\n\" + \\\n",
        "\"misdirection of the services they provide. \\n\"\n",
        "```\n",
        "\n"
      ]
    },
    {
      "cell_type": "code",
      "metadata": {
        "id": "LuSUdXLxhSdE"
      },
      "source": [
        "desc = \\\n",
        "\"Computer security, cybersecurity or information technology security \\n\" + \\\n",
        "\"(IT security) is the protection of computer systems and networks \\n\" + \\\n",
        "\"from information disclosure, theft of or damage to their hardware, \\n\" + \\\n",
        "\"software, or electronic data, as well as from the disruption or \\n\" + \\\n",
        "\"misdirection of the services they provide. \\n\"\n",
        "\n",
        "print(desc)"
      ],
      "execution_count": null,
      "outputs": []
    },
    {
      "cell_type": "markdown",
      "metadata": {
        "id": "4Qm7hqNUhW7Z"
      },
      "source": [
        "You can use **three consective single-quote or double-quote** (`\"\"\"` or `'''`)  to represent a string with multiple lines.\n",
        "```\n",
        "desc = \"\"\"\n",
        "Computer security, cybersecurity or information technology security\n",
        " (IT security) is the protection of computer systems and networks \n",
        "from information disclosure, theft of or damage to their hardware, \n",
        "software, or electronic data, as well as from the disruption or \n",
        "misdirection of the services they provide.\n",
        "\"\"\"\n",
        "# This text is derived from https://en.wikipedia.org/wiki/Computer_security\n",
        "```"
      ]
    },
    {
      "cell_type": "code",
      "metadata": {
        "id": "o5pAm7ZzhYQD"
      },
      "source": [
        "desc = \"\"\"\n",
        "Computer security, cybersecurity or information technology security\n",
        " (IT security) is the protection of computer systems and networks \n",
        "from information disclosure, theft of or damage to their hardware, \n",
        "software, or electronic data, as well as from the disruption or \n",
        "misdirection of the services they provide.\n",
        "\"\"\"\n",
        "print(desc)"
      ],
      "execution_count": null,
      "outputs": []
    },
    {
      "cell_type": "markdown",
      "metadata": {
        "id": "K3OAHg9_3bEQ"
      },
      "source": [
        "### len(): get the length of string\n",
        "`len()` returns the length of string.\n",
        "Please run the following program. Then, you can arrange the `str` as you like and confirm the result."
      ]
    },
    {
      "cell_type": "code",
      "metadata": {
        "colab": {
          "base_uri": "https://localhost:8080/"
        },
        "id": "oqGodYJf3fdJ",
        "outputId": "02584f95-e160-4ee2-e708-b67d035f435f"
      },
      "source": [
        "str = \"012345\"\n",
        "print(\"Length =\", len(str))"
      ],
      "execution_count": null,
      "outputs": [
        {
          "output_type": "stream",
          "text": [
            "Length = 6\n"
          ],
          "name": "stdout"
        }
      ]
    },
    {
      "cell_type": "markdown",
      "metadata": {
        "id": "paHGjBq8LjRU"
      },
      "source": [
        "### print() without a newline\n",
        "\n",
        "You specify `end=''` as the second argument of `print()`, it doesn't print a new line.\n",
        "\n",
        "Please check the difference between two programs below. The last program doesn't print a new line after `'A'`.\n",
        "\n",
        "```\n",
        "print('A')\n",
        "print('C')\n",
        "``` \n",
        "```\n",
        "print('A', end='')\n",
        "print('C')\n",
        "``` \n",
        "\n",
        "### Just only a newline\n",
        "\n",
        "You specify no argument of `print()`, it prints just only a newline.\n",
        "```\n",
        "print()\n",
        "```"
      ]
    },
    {
      "cell_type": "code",
      "metadata": {
        "colab": {
          "base_uri": "https://localhost:8080/"
        },
        "id": "cpFBRxKdMKS8",
        "outputId": "ba9da576-8368-4c4c-e7d4-1d97dbf07ed9"
      },
      "source": [
        "print('A')\n",
        "print('C')\n",
        "print('-----')\n",
        "print()\n",
        "print('A', end='')\n",
        "print('C')\n"
      ],
      "execution_count": null,
      "outputs": [
        {
          "output_type": "stream",
          "text": [
            "A\n",
            "C\n",
            "-----\n",
            "\n",
            "AC\n"
          ],
          "name": "stdout"
        }
      ]
    },
    {
      "cell_type": "markdown",
      "metadata": {
        "id": "ZEgjsarNkBsF"
      },
      "source": [
        "### Unicode\n",
        "\n",
        "Python uses Unicode internally to represent a character.\n",
        "Unicode (generally UTF-8): The commonly used encoding system (including Emoji)\n",
        "[Unicode Consortium](https://home.unicode.org/)\n",
        "\n",
        "The range of Unicode is 1 to 4294967295 (in hexadecimal, 0x0001 to 0xffffffff). If you specified an undefined value, the displayed character is undefined (maybe 󿿿 is printed).\n",
        "Also, you may need a appropriate font to display unicode characters.\n",
        "\n",
        "You can use the following functions to convert a character to Unicode or Unicode to a character.\n",
        "\n",
        "1. `chr()` function (get a Unicode character)\n",
        "2. `ord()` function (One character to Unicode in number)\n",
        "3. `ascii()` function (String in Unicode): The prefix of each Unicode character is '\\U'. \n"
      ]
    },
    {
      "cell_type": "code",
      "metadata": {
        "colab": {
          "base_uri": "https://localhost:8080/"
        },
        "id": "C9OEm5YGZ3Ug",
        "outputId": "e3fe795c-9d05-4746-a7eb-88f112cd8e89"
      },
      "source": [
        "print(chr(65))         # A\n",
        "print(chr(0x0001f601)) # 😁\n",
        "print(chr(0x000fffff)) # undefined \n",
        "print(ord('😂'))       # 128514\n",
        "print(ascii('😂'))     # '\\U0001f602'\n",
        "\n",
        "# to print unicode in hexadecimal format\n",
        "s = '{:08x}'.format(ord('😂'))\n",
        "print(s) # 0001f602"
      ],
      "execution_count": null,
      "outputs": [
        {
          "output_type": "stream",
          "text": [
            "A\n",
            "😁\n",
            "󿿿\n",
            "128514\n",
            "'\\U0001f602'\n",
            "0001f602\n"
          ],
          "name": "stdout"
        }
      ]
    },
    {
      "cell_type": "markdown",
      "metadata": {
        "id": "Gbw5JZIIlgUv"
      },
      "source": [
        "### Practice: Ascii code table\n",
        "\n",
        "Make two programs to print a character table from 0x20 (32 in decimal) to 0x7f  (127 in decimal) in Unicode (This is also said 'ASCII code'). In this program, please print a new line every 16 characters.\n",
        "\n",
        "1. **Use** `\"\"\"` **or** `'''` **to print the ascii code table**\n",
        "2. **Use a \"while\" loop to print the ascii code table.**\n",
        "\n",
        "Result:\n",
        "```\n",
        "  | 0 1 2 3 4 5 6 7 8 9 A B C D E F\n",
        "--+--------------------------------\n",
        "2 |   ! \" # $ % & ' ( ) * + , - . / \n",
        "3 | 0 1 2 3 4 5 6 7 8 9 : ; < = > ? \n",
        "4 | @ A B C D E F G H I J K L M N O \n",
        "5 | P Q R S T U V W X Y Z [ \\ ] ^ _ \n",
        "6 | ` a b c d e f g h i j k l m n o \n",
        "7 | p q r s t u v w x y z { | } ~  \n",
        "```"
      ]
    },
    {
      "cell_type": "code",
      "metadata": {
        "id": "GW0bB_TxlsyY"
      },
      "source": [
        "# Make a program to display an Ascii code table using \"\"\" or '''\n"
      ],
      "execution_count": null,
      "outputs": []
    },
    {
      "cell_type": "code",
      "metadata": {
        "colab": {
          "base_uri": "https://localhost:8080/"
        },
        "id": "ljmBv75Klr3-",
        "outputId": "9ca31e4c-af9e-489a-a5e2-667ab5d8af52"
      },
      "source": [
        "print(\"  | 0 1 2 3 4 5 6 7 8 9 A B C D E F\")\n",
        "print(\"--+--------------------------------\")\n",
        "# Please fill below using a loop.\n",
        "# An sample output is in the result region.  \n",
        "# In this table, 0x21 is !, 0x5F is _ in ascii code, respectively. "
      ],
      "execution_count": null,
      "outputs": [
        {
          "output_type": "stream",
          "text": [
            "  | 0 1 2 3 4 5 6 7 8 9 A B C D E F\n",
            "--+--------------------------------\n",
            "2 |   ! \" # $ % & ' ( ) * + , - . / \n",
            "3 | 0 1 2 3 4 5 6 7 8 9 : ; < = > ? \n",
            "4 | @ A B C D E F G H I J K L M N O \n",
            "5 | P Q R S T U V W X Y Z [ \\ ] ^ _ \n",
            "6 | ` a b c d e f g h i j k l m n o \n",
            "7 | p q r s t u v w x y z { | } ~  \n"
          ],
          "name": "stdout"
        }
      ]
    },
    {
      "cell_type": "code",
      "metadata": {
        "id": "_AHiz61KlsN3"
      },
      "source": [
        ""
      ],
      "execution_count": null,
      "outputs": []
    },
    {
      "cell_type": "markdown",
      "metadata": {
        "id": "87qSxmDLKM1E"
      },
      "source": [
        "### Practice: Emoji table\n",
        "\n",
        "Make two programs to print a character table from 0x0001f601 to 0x0001f6ff in Unicode. In this program, please print a new line every 16 characters.\n",
        "\n",
        "1. **Use** `\"\"\"` **or** `'''` **to print these characters**\n",
        "2. **Use a \"for\" loop to print these characters.**\n",
        "\n",
        "\n",
        "Result:\n",
        "```\n",
        "😁😂😃😄😅😆😇😈😉😊😋😌😍😎😏😐\n",
        "😑😒😓😔😕😖😗😘😙😚😛😜😝😞😟😠\n",
        "😡😢😣😤😥😦😧😨😩😪😫😬😭😮😯😰\n",
        "😱😲😳😴😵😶😷😸😹😺😻😼😽😾😿🙀\n",
        "🙁🙂🙃🙄🙅🙆🙇🙈🙉🙊🙋🙌🙍🙎🙏🙐\n",
        "🙑🙒🙓🙔🙕🙖🙗🙘🙙🙚🙛🙜🙝🙞🙟🙠\n",
        "🙡🙢🙣🙤🙥🙦🙧🙨🙩🙪🙫🙬🙭🙮🙯🙰\n",
        "🙱🙲🙳🙴🙵🙶🙷🙸🙹🙺🙻🙼🙽🙾🙿🚀\n",
        "🚁🚂🚃🚄🚅🚆🚇🚈🚉🚊🚋🚌🚍🚎🚏🚐\n",
        "🚑🚒🚓🚔🚕🚖🚗🚘🚙🚚🚛🚜🚝🚞🚟🚠\n",
        "🚡🚢🚣🚤🚥🚦🚧🚨🚩🚪🚫🚬🚭🚮🚯🚰\n",
        "🚱🚲🚳🚴🚵🚶🚷🚸🚹🚺🚻🚼🚽🚾🚿🛀\n",
        "🛁🛂🛃🛄🛅🛆🛇🛈🛉🛊🛋🛌🛍🛎🛏🛐\n",
        "🛑🛒🛓🛔🛕🛖🛗🛘🛙🛚🛛🛜🛝🛞🛟🛠\n",
        "🛡🛢🛣🛤🛥🛦🛧🛨🛩🛪🛫🛬🛭🛮🛯🛰\n",
        "🛱🛲🛳🛴🛵🛶🛷🛸🛹🛺🛻🛼🛽🛾\n",
        "```\n"
      ]
    },
    {
      "cell_type": "code",
      "metadata": {
        "id": "G3OU8H4WlH1t"
      },
      "source": [
        "# Make a program to display an Emoji table using \"\"\" or '''"
      ],
      "execution_count": null,
      "outputs": []
    },
    {
      "cell_type": "code",
      "metadata": {
        "id": "aoLx1gK_O897"
      },
      "source": [
        "# Make a program to display an Emoji table using a \"for\" loop."
      ],
      "execution_count": null,
      "outputs": []
    },
    {
      "cell_type": "markdown",
      "metadata": {
        "id": "Ha9QLO0LthVe"
      },
      "source": [
        "### Slicing\n",
        "\n",
        "You can get a substring (a part) of a string."
      ]
    },
    {
      "cell_type": "markdown",
      "metadata": {
        "id": "yXz5hENPoXRZ"
      },
      "source": [
        "\n",
        "#### indexing (extract one character)\n",
        "\n",
        "You can get a character with a index.\n",
        "Index of string starts from 0 to (the length of string) -1.\n",
        "If you specified out of range of index, it causes a runtime error. \n",
        "\n",
        "ex.\n",
        "```str = \"ABC\" # the length of string is 3 ```\n",
        "\n",
        "str[0]: \"A\", str[1]: \"B\", str[2]: \"C\", str[3]: error (3 > 3 - 1)\n",
        "\n",
        "Also, you can specify a negative number as an index, it seeks a character from the end of string.\n",
        "\n",
        "```str = \"ABC\" # the length of string is 3 ```\n",
        "\n",
        "str[-1]: \"C\", str[-2]: \"B\", str[-3]: \"A\", str[-4]: error \n",
        "\n",
        "Run the following program and understand the behavior.\n",
        "\n",
        "A string in Python is immutable(read-only) data.\n",
        "This means:\n",
        "- you can read a character like the statement `head = str[0]`.\n",
        "- you cannot write a character like the statement `str[0] = 'H'`. This leads to a runtime error. \n",
        "\n"
      ]
    },
    {
      "cell_type": "code",
      "metadata": {
        "id": "wuq_jIk8oruJ"
      },
      "source": [
        "str = \"KMITL\" # ASCII\n",
        "\n",
        "for i in range(len(str)):\n",
        "  print(str[i], \" \", end=\"\")\n",
        "# print(str[5]) # it causes an error. \n",
        "\n",
        "print()\n",
        "\n",
        "for i in range(1, len(str)+1):\n",
        "  print(str[-1 * i], \" \", end=\"\")\n",
        "# print(str[-6]) # it causes an error.\n",
        "\n",
        "print()\n",
        "\n",
        "str_t = \"สวัสดี\" # Unicode (Thai)\n",
        "print(len(str_t))\n",
        "for i in range(len(str_t)):\n",
        "  print(str_t[i], \" \", end=\"\")\n",
        "\n",
        "print()\n",
        "\n",
        "str_j = \"こんにちは\" # Unicode (Japanese)\n",
        "for i in range(len(str_j)):\n",
        "  print(str_j[i], \" \", end=\"\")\n",
        "\n"
      ],
      "execution_count": null,
      "outputs": []
    },
    {
      "cell_type": "markdown",
      "metadata": {
        "id": "ak5hgvEyoZ0l"
      },
      "source": [
        "#### substring (extract a part of string)\n",
        "\n",
        "you can specify a range of substring using `[a:b:c]`, which means it gets a substring from index `i` (`a` <= `i` < `b`) every `c` character(s). In `a` or `b` negative numbers are acceptable.\n",
        "- If `a` is omitted, it means you specify 0.\n",
        "- If `b` is omitted, it means you specify the length of string.\n",
        "- If `c` is omitted, it means you specify 1 . \n",
        "\n",
        "This notation is also used in array or tuple. Please remember.\n",
        "\n",
        "Please run the following program:"
      ]
    },
    {
      "cell_type": "code",
      "metadata": {
        "colab": {
          "base_uri": "https://localhost:8080/"
        },
        "id": "spDuy4nHtVhn",
        "outputId": "d7ffbcec-e05f-44c8-cddb-53eda11a6a37"
      },
      "source": [
        "str = \"0123456789\"\n",
        "print(str[0:5])   \n",
        "print(str[0:5:2]) # every two characters\n",
        "print(str[-5:-1]) # -5 of index is '5' in str\n",
        "print(str[:])     # a and b are omitted.\n",
        "print(str[::])    # a, b and c are ommited\n",
        "print(str[::-1])  # you can make the string in reversed order\n",
        "print(str[-2:-5:-1])  # you can make the string in reversed order\n"
      ],
      "execution_count": 1,
      "outputs": [
        {
          "output_type": "stream",
          "text": [
            "01234\n",
            "024\n",
            "5678\n",
            "0123456789\n",
            "0123456789\n",
            "9876543210\n",
            "876\n"
          ],
          "name": "stdout"
        }
      ]
    },
    {
      "cell_type": "markdown",
      "metadata": {
        "id": "piKGq5DF2l_D"
      },
      "source": [
        "### Practice: Palindrome (พาลินโดรม Kaibun かいぶん)\n",
        "\n",
        "A palindrome is a sentence that is the same whether it is read from the beginning or the reverse.\n",
        "\n",
        "1. たけやぶやけた\n",
        "2. กนก\n",
        "\n",
        "Make a program to make a palindrome, using the reversed string.\n",
        "Please consider the given string is unknown.\n",
        "```\n",
        "str_1 = \"กอด\" # กอดอก\n",
        "\n",
        "# Make str_2 by using slicing of str_1\n",
        "str_2 = str_1[::]  # make a substring with the reversed order.\n",
        "\n",
        "str_palindrome = str_1 + str_2\n",
        "```\n",
        "\n",
        "(Japanese Palindrome:  たけやぶやけた, いろしろい, ....)\n",
        "\n"
      ]
    },
    {
      "cell_type": "code",
      "metadata": {
        "id": "OsVNNPgB3Oa6"
      },
      "source": [
        "sentence_1 = \"たけやぶ\"\n",
        "sentence_2 = \"กน\"\n",
        "sentence_3 = \"ทาย\""
      ],
      "execution_count": null,
      "outputs": []
    }
  ]
}