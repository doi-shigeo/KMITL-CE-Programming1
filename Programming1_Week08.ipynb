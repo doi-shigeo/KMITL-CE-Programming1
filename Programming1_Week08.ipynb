{
  "nbformat": 4,
  "nbformat_minor": 0,
  "metadata": {
    "colab": {
      "name": "Programming1_Week08.ipynb",
      "provenance": [],
      "toc_visible": true,
      "authorship_tag": "ABX9TyMkVsqz41LpFSUGMNaezmTv",
      "include_colab_link": true
    },
    "kernelspec": {
      "name": "python3",
      "display_name": "Python 3"
    },
    "language_info": {
      "name": "python"
    }
  },
  "cells": [
    {
      "cell_type": "markdown",
      "metadata": {
        "id": "view-in-github",
        "colab_type": "text"
      },
      "source": [
        "<a href=\"https://colab.research.google.com/github/doi-shigeo/KMITL-CE-Programming1/blob/main/Programming1_Week08.ipynb\" target=\"_parent\"><img src=\"https://colab.research.google.com/assets/colab-badge.svg\" alt=\"Open In Colab\"/></a>"
      ]
    },
    {
      "cell_type": "markdown",
      "metadata": {
        "id": "LvaoB9RuDM1x"
      },
      "source": [
        "### Useful functions for manipulating lists\n",
        "\n",
        "There are several functions to manipulate a list.\n",
        "At the moment, you don't have to remember notations of these functions, but please remember the functionality of these functions.\n",
        "We assume `a_list` and `b_list` are lists. `sep` is a separator as a string.\n",
        "\n",
        "- `a_list.append(datum)`: append a given `datum` to `a_list`.\n",
        "- `a_list.extend(b_list)`: append each element in `b_list` to `a_list`. \n",
        "- `a_list.insert(pos, datum)`: insert a given `datum` into a_list at given `pos`.\n",
        "- `del a_list[pos]`: delete the datum at the given `pos` in `a_list`.\n",
        "- `a_list.remove(datum)` : if the `datum` exists in `a_list`, it is removed.\n",
        "- `a_list.pop()`: get the last element in `a_list` and remove the last element  in `a_list`\n",
        "- `a_list.index(datum)`: get the position of `datum`.\n",
        "- `datum in a_list`: if `datum` is in `a_list`, then it returns `True`. Otherwise it returns `False`.\n",
        "- `a_list.count(datum)`: count how many `datum` is in `a_list`.\n",
        "- `sep.join(a_list)`: make a string joining each element `a_list` with the separator `sep`.\n",
        "- `a_list.sort()`: sort the `a_list` in ascending order (number, character code) \n",
        "- `a_list.sort(reversed=True)`: sort the `a_list` in descending order (number, character code) \n",
        "- `len(a_list)`: return the number of elements in `a_list`.\n",
        "\n",
        "A sample program to understand how the functions works is below."
      ]
    },
    {
      "cell_type": "code",
      "metadata": {
        "id": "ZJIcF1wlDQiw"
      },
      "source": [
        "a_list = [\"Jan\", \"Feb\", \"Mar\"]\n",
        "b_list = [\"May\", \"Jun\", \"Jul\"]\n",
        "\n",
        "a_list.append(\"Apr\")     \n",
        "print(\"a_list:\", a_list)\n",
        "\n",
        "a_list.extend(b_list)\n",
        "print(\"a_list:\", a_list)\n",
        "a_list.append(b_list)     # append b_list to the last of a_list. \n",
        "                          # Please understand the different behavior from \"extend()\" \n",
        "print(\"a_list:\", a_list)\n",
        "del a_list[-1]            # index of the last element is always -1 (see slicing)\n",
        "print(\"a_list:\", a_list)\n",
        "\n",
        "a_list.insert(3, \"Aug\")   \n",
        "print(\"a_list:\", a_list)\n",
        "\n",
        "#a_list.remove(\"Dec\")      # if the specified value doesn't exist in the a_list, it causes a runtime error.\n",
        "#print(\"a_list:\", a_list)\n",
        "\n",
        "if \"Aug\" in a_list:        # when using \"remove()\", and \"index()\", you should check its existence in the list.\n",
        "  a_list.remove(\"Aug\")     # guaranteed the existence of \"Aug\"\n",
        "\n",
        "# print(\"Dec: \", a_list.index(\"Dec\")) # it causes a runtime error\n",
        "\n",
        "if \"Dec\" in a_list:\n",
        "  print(\"Dec: \", a_list.index(\"Dec\"))\n",
        "else:\n",
        "  print(\"Dec is not in a_list\")\n",
        "\n",
        "if \"Feb\" in a_list:\n",
        "  print(\"Feb:\", a_list.index(\"Feb\"))\n",
        "\n",
        "# count(): count the specified value in the list.\n",
        "print(\"# of 'Feb'\", a_list.count('Feb'))\n",
        "print(\"# of 'Dec'\", a_list.count('Dec'))\n",
        "\n",
        "# str.join(): make a string by the specified list with the separator of str\n",
        "print(', '.join(a_list))\n",
        "\n",
        "# sort(): sort a list\n",
        "a_list.sort()\n",
        "print(\"sorting(ascending) a_list:\", a_list)\n",
        "\n",
        "# sort with descending order by specifying \"reverse=True\" \n",
        "a_list.sort(reverse=True)\n",
        "print(\"sorting(descending) a_list:\", a_list)\n",
        "\n",
        "# len(): get how many elements in the list\n",
        "print(\"length=\", len(a_list))"
      ],
      "execution_count": null,
      "outputs": []
    },
    {
      "cell_type": "markdown",
      "metadata": {
        "id": "ni9sk567D4cx"
      },
      "source": [
        "## Sets and Dictionaries"
      ]
    },
    {
      "cell_type": "markdown",
      "metadata": {
        "id": "gruL9U80Bk7b"
      },
      "source": [
        "### Set\n",
        "\n",
        "\"Set\" in Python is a set in mathematics. You can store any data into a set.\n",
        "\"Set\" is almost same to \"List\", but differences between \"List\" and \"Set\" are:\n",
        "- Unordered (Set), Ordered (List)\n",
        "- Duplication: Not allowed (Set), allowed (List)\n",
        "\n",
        "\n",
        "Notation: to represent a set, using the curly brackets, '{' and '}'.\n",
        "This notation is same to express a set in mathematics. \n",
        "An example is below:\n",
        "```\n",
        "a_set = {\"Morning\", \"Afternoon\", \"Evening\"} # 3 elements\n",
        "dup_set = {\"Hi\", \"Hello\", \"Hi\"} # 2 elements (\"Hi\": duplicated)\n",
        "```\n",
        "\n",
        "A set is also used for keys of \"Dictionary\" data structure."
      ]
    },
    {
      "cell_type": "code",
      "metadata": {
        "id": "4pyEWAMjEAOz"
      },
      "source": [
        "a_set = {\"Morning\", \"Afternoon\", \"Evening\"} \n",
        "dup_set = {\"Hi\", \"Hello\", \"Hi\"} \n",
        "\n",
        "# print the set\n",
        "print(\"a_set\", a_set)\n",
        "print(\"dup_set\", dup_set)\n",
        "\n",
        "# print a number of elements in the set\n",
        "print(\"length of a_set=\", len(a_set))\n",
        "print(\"length of dup_set=\"len(dup_set))\n",
        "\n",
        "# try to add a element to the set.\n",
        "a_set.add(\"Hello\")   # \"Hello\" isn't in the a_set. Therefore added to a_set.\n",
        "dup_set.add(\"Hello\") # \"Hello\" is already in the dup_set. Therefore not added.\n",
        "print(\"After adding 'Hello' to a_set: \", a_set)\n",
        "print(\"After adding 'Hello' to dup_set: \",dup_set)\n",
        "\n",
        "# Before removing an element from a set, you must check its existence.\n",
        "if \"Hi\" in dup_set:\n",
        "  dup_set.remove(\"Hi\")\n",
        "  print(\"After removing 'Hi' from dup_set=\", dup_set)\n",
        "\n",
        "# a_set.remove(\"This\") # \"This\": not existed in the a_set. This will be an error.\n",
        "\n",
        "# You want to count unique elements in a list.\n",
        "# More directly, you can get by \"len(set(dup_list_1))\".\n",
        "dup_list_1 = [1, 1, 3, 2]\n",
        "dup_set_1 = set(dup_list_1)                   # remove duplicates\n",
        "print(\"len=\", len(dup_set_1), \",\", dup_set_1) # Order may not be preserved\n",
        "\n"
      ],
      "execution_count": null,
      "outputs": []
    },
    {
      "cell_type": "markdown",
      "metadata": {
        "id": "J5qpocN43RaP"
      },
      "source": [
        "#### Practice\n",
        "\n",
        "In the coding region below, there are 3 elements in the set of `set_01`. \n",
        "\n",
        "Answer the following question. Of course, you can write codes to answer.\n",
        "```\n",
        "set_01 = {\"1\", \"2\", \"3\"}\n",
        "```\n",
        "\n",
        "1. Add \"2\" of string to `set_01` by using 'add()' function. Can you add it? \n",
        "2. Add 2 of integer to `set_01` by using 'add()' function. Can you add it?\n",
        "3. Do you think **\"2\" of string** and **2 of integer** are different in a set?"
      ]
    },
    {
      "cell_type": "code",
      "metadata": {
        "id": "OZvHwbv33dAv"
      },
      "source": [
        "set_01 = {\"1\", \"2\", \"3\"}\n"
      ],
      "execution_count": null,
      "outputs": []
    },
    {
      "cell_type": "markdown",
      "metadata": {
        "id": "lCUpWT7ISYc6"
      },
      "source": [
        "### Dictionaries\n",
        "\n",
        "\"Dictionary\" is a **key-value pair** data storage.\n",
        "Dictionary is used for similar purposes of a list or a tuple.\n",
        "\n",
        "The difference is that the index of a dictionary is independent of data types. Generally we use **string**s as keys in a dictionary.\n",
        "On the other hand, the index of a list or a tuple must be an integer.\n",
        "\n",
        "Dictionary data structure is used as a structural record. Also, \n",
        "the dictionary data structure can be represented as JSON (JavaScript Object Notation), which is used as a data transfer format such as between Web service and client.\n",
        "\n",
        "This is an example of \"dictionary\".\n",
        "```\n",
        "person = {\n",
        "  \"FirstName\": \"Shigeo\", # \"FirstName\" is a key, \"Shigeo\" is a value.\n",
        "  \"LastName\": \"DOI\", # \"LastName\" is a key, \"DOI\" is a value.\n",
        "}\n",
        "```\n",
        "You can store lists in a dictionary and you can nest a dictionary. \"Birthday\" is nested and it stores a list with the key \"LivedPlace\".\n",
        "```\n",
        "person = {\n",
        "  \"FirstName\": \"Shigeo\", # key: \"FirstName\", value: \"Shigeo\"\n",
        "  \"LastName\": \"DOI\",\n",
        "  \"Birthday\": {\n",
        "    \"Year\": 1975,\n",
        "    \"Month\": 2,\n",
        "    \"DayOfMonth\": 23,\n",
        "  },\n",
        "  \"LivedPlace\": [\"Tomakomai\", \"Sapporo\", \"Kawasaki\", \"Bangkok\"],\n",
        "}\n",
        "\n",
        "# Create, Update\n",
        "person[\"FirstName\"] = \"茂雄\"      # existing key\n",
        "person[\"KanjiName\"] = \"土居 茂雄\" # new key\n",
        "person[\"Birthday\"] = {\"Year\": 2021, \"Month\": 1, \"DayOfMonth\": 1} # you can create or update the value. You can set any data to the value. \n",
        "\n",
        "# Read (v1, d1: variable)\n",
        "# Please make sure that what data type of the value is stored by the key. \n",
        "v1 = person[\"LastName\"] # LastName(String)\n",
        "d1 = person[\"Birthday\"] # Birthday(Dictionary)\n",
        "g1 = person.get(\"UnsureKey\") # If \"UnsureKey\" isn't in the keys of \"person\", it returns \"None\". If the key exists, it'll do the same behavior.\n",
        "\n",
        "# Delete (dp, dpi: variable)\n",
        "del person[\"LivedPlace\"] \n",
        "# These two functions below, if the key \"LivedPlace\" is not in the list, then it returns \"None\".\n",
        "dp = person.pop(\"LivedPlace\", None) # it returns the value of key \"LivedPlace\"\n",
        "dpi = person.popitem(\"LivedPlace\", None) # it returne the key-value pair of the key \"LivedPlace\"\n",
        "\n",
        "```\n",
        "\n"
      ]
    },
    {
      "cell_type": "code",
      "metadata": {
        "id": "e3Ga6ESET-A5"
      },
      "source": [
        "person = {\n",
        "  \"FirstName\": \"Shigeo\",\n",
        "  \"LastName\": \"DOI\",\n",
        "  \"Birthday\": { # key: \"Birthday\", value: dictionary\n",
        "    \"Year\": 1975,\n",
        "    \"Month\": 2,\n",
        "    \"DayOfMonth\": 23,\n",
        "  },\n",
        "  # key: \"LivedPlace\", value: list\n",
        "  \"LivedPlace\": [\"Hokkaido\", \"Kawasaki\", \"Bangkok\"],\n",
        "}\n",
        "\n",
        "# You can read data from the dictionary like:\n",
        "print(\"Person=\",person) # whole\n",
        "print(\"FirstName=\", person[\"FirstName\"]) # FirstName\n",
        "print(\"Birthday=\", person[\"Birthday\"])  # Birthday\n",
        "print(\"Year of Birthday=\", person[\"Birthday\"][\"Year\"]) # Year of Birthday\n",
        "print(\"LivedPlace=\", person[\"LivedPlace\"]) # you can extract the list in the example\n",
        "print(\"First Element in LivedPlace=\", person[\"LivedPlace\"][0]) # you can get the first element in the list person[\"LivedPlace\"]\n",
        "\n",
        "# you can substitute a key-value pair like \"dict[key] = value\".\n",
        "person[\"Hobbies\"] = [\"Sleep\", \"Travel\"] # No key \"Hobbies\" in person. So the pair is added to the list.\n",
        "person[\"LastName\"] = \"Doi\"              # \"LastName\" already exists in the key. So the value is replaced. \n",
        "person.pop(\"LivedPlace\", None)          # remove the key \"LivedPlace\" and associated value. if no key, it returns \"None\".\n",
        "person[\"Birthday\"] = {\"Year\": 2021, \"Month\": 1, \"DayOfMonth\": 1}\n",
        "\n",
        "print(\"Person=\", person)                                          \n",
        "print(\"LastName=\", person[\"LastName\"])\n",
        "\n",
        "# print(person[\"HOGE\"])   # if no \"HOGE\" in the keys, then it will be an error.\n",
        "print(\"The value for the key 'HOGE'=\", person.get(\"HOGE\")) # if you are not sure the existance of key \"HOGE\", please use this. \n",
        "                          # if no key \"HOGE\" in the dictioary \"person\", then it returns \"None\"\n",
        "print(\"Hobbies=\", person[\"Hobbies\"])\n",
        "print(\"Person=\", person)"
      ],
      "execution_count": null,
      "outputs": []
    },
    {
      "cell_type": "markdown",
      "metadata": {
        "id": "GE9v0mDmgILG"
      },
      "source": [
        "#### Homework\n",
        "\n",
        "(1) Print \"Name\", \"Density\" in the dictonary `dict_thai`:\n",
        "```\n",
        "dict_thai = {\n",
        "  \"Name\": \"ราชอาณาจักรไทย\",\n",
        "  \"People\": 70000000, \n",
        "  \"Capital\": \"Bangkok\",\n",
        "  \"Density\": 132.1 # # in km^2\n",
        "}\n",
        "```\n",
        "\n",
        "(2) Change the dictionary by **using above functions or statements**:\n",
        "```\n",
        "Before:\n",
        "dict_02 = {\n",
        "  \"A\": \"Apple\",\n",
        "  \"B\": \"Banana\",\n",
        "  \"C\": \"Cameleon\",\n",
        "}\n",
        "After:\n",
        "dict_02 = {\n",
        "  \"A\": \"Ant\",\n",
        "  \"B\": \"Banana\",\n",
        "  \"D\": \"Donuts\",\n",
        "}\n",
        "```\n",
        "Please don't substitute directly, just use \"Create or Update\" and \"Delete\" procedure in the coding region.\n",
        "\n",
        "\n",
        "\n"
      ]
    },
    {
      "cell_type": "code",
      "metadata": {
        "id": "YBWIM0G81g3k"
      },
      "source": [
        "dict_thai = {\n",
        "  \"Name\": \"ราชอาณาจักรไทย\",\n",
        "  \"People\": 70000000,\n",
        "  \"Capital\": \"Bangkok\",\n",
        "  \"Density\": 132.1 # # in km^2\n",
        "}\n",
        "# Print \"Name\" and \"Density\" in the dictionary `dict_thai`\n"
      ],
      "execution_count": null,
      "outputs": []
    },
    {
      "cell_type": "code",
      "metadata": {
        "id": "-ZmzHIQr1pfY"
      },
      "source": [
        "dict_02 = {\n",
        "  \"A\": \"Apple\",\n",
        "  \"B\": \"Banana\",\n",
        "  \"C\": \"Cameleon\",\n",
        "}\n",
        "\n",
        "# Manipulate elements only using CRUD operations and get the following dictionary. \n",
        "# dict_02 = {\n",
        "#  \"A\": \"Ant\",\n",
        "#  \"B\": \"Banana\",\n",
        "#  \"D\": \"Donuts\",\n",
        "# }\n",
        "\n",
        "# CRUD operations:\n",
        "# Create or Update\n",
        "# dict_02[\"...\"] = ...\n",
        "# Delete\n",
        "# dict_02.pop(\"...\")\n",
        "\n",
        "# Finally, print the dictionary and check the correspondence.\n",
        "print(dict_02)\n",
        "\n"
      ],
      "execution_count": null,
      "outputs": []
    }
  ]
}