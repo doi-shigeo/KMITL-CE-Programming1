{
  "nbformat": 4,
  "nbformat_minor": 0,
  "metadata": {
    "colab": {
      "name": "Programming1_Week07.ipynb",
      "provenance": [],
      "authorship_tag": "ABX9TyN9pW+Hs6rOeo0Yvbue0u3r",
      "include_colab_link": true
    },
    "kernelspec": {
      "name": "python3",
      "display_name": "Python 3"
    },
    "language_info": {
      "name": "python"
    }
  },
  "cells": [
    {
      "cell_type": "markdown",
      "metadata": {
        "id": "view-in-github",
        "colab_type": "text"
      },
      "source": [
        "<a href=\"https://colab.research.google.com/github/doi-shigeo/KMITL-CE-Programming1/blob/main/Programming1_Week07.ipynb\" target=\"_parent\"><img src=\"https://colab.research.google.com/assets/colab-badge.svg\" alt=\"Open In Colab\"/></a>"
      ]
    },
    {
      "cell_type": "markdown",
      "metadata": {
        "id": "UzzRFZbPb9cC"
      },
      "source": [
        "# 7th week\n",
        "\n",
        "## List and Tuple\n",
        "\n",
        "### Introduction\n",
        "As for the standard of Python, you can use \"list\" or \"tuple\" to store the series of data.\n",
        "The difference between \"list\" and \"tuple\" is:\n",
        "- list: you **can change** the stored data in your program. \n",
        "- tuple: Once a tuple is set, you **can't change** the stored data in the tuple(read-only, immutable)"
      ]
    },
    {
      "cell_type": "markdown",
      "metadata": {
        "id": "4ApSEazsPvDL"
      },
      "source": [
        "### List\n",
        "You can initialize, read and write data of any type. But generally we recommend all the stored data should be the same data type.\n",
        "The starting index is 0.\n",
        "The notation of a list is '[ .... ]', where a comma is a separator of each element."
      ]
    },
    {
      "cell_type": "markdown",
      "metadata": {
        "id": "SWy44AtLP0Xi"
      },
      "source": [
        "### Tuple\n",
        "You can initialize the data of tuple, but you cannot override a data in the tuple. Same to list, generally we recommend all the stored data should be the same data type.\n",
        "The starting index is 0.\n",
        "The notation of a list is '( .... )', where a comma is a separator of each element.\n",
        "\n",
        "You think we don't need the data structure of tuple. But you want to declare the data is read-only, you should use a tuple because it is helpful for debugging. Generally \"tuple\" is used for storing constant values."
      ]
    },
    {
      "cell_type": "code",
      "metadata": {
        "id": "kuf3xfsUb5HC"
      },
      "source": [
        "# List\n",
        "array = [1, '2+', 3] # any type of data in the same array.\n",
        "print(array)\n",
        "array[1] = 2 # you can set a datum into the list\n",
        "print(array)\n",
        "\n",
        "# Tuple\n",
        "array = (1, '2+', 3) # data of int and string in the same array. \n",
        "print(array)\n",
        "# array[1] = 2 # if you comment out this statement, this will cause an error\n",
        "print(array)\n",
        "\n"
      ],
      "execution_count": null,
      "outputs": []
    },
    {
      "cell_type": "markdown",
      "metadata": {
        "id": "WM-kn9q-Rfle"
      },
      "source": [
        "You can set values into a list. `list()` is a function to generate a list.\n",
        "\n",
        "If you use the function `tuple()` instead of `list()`, you can generate a tuple."
      ]
    },
    {
      "cell_type": "code",
      "metadata": {
        "id": "003Cjw08RmNh"
      },
      "source": [
        "a_empty = list() # empty list\n",
        "print(a_empty)\n",
        "a_10 = list(range(10)) # 0 to 9 \n",
        "print(a_10)\n",
        "a_tuple = list((2, 3, 5, 7)) # convert the tuple into a list\n",
        "print(a_tuple)\n",
        "a_odd = list([x for x in range(10) if x % 2 == 1]) # odd number\n",
        "print(a_odd)"
      ],
      "execution_count": null,
      "outputs": []
    },
    {
      "cell_type": "markdown",
      "metadata": {
        "id": "vfxDi6zSJfmx"
      },
      "source": [
        "### Converting a string into a list\n",
        "\n",
        "You can convert a string into a list using `split()` function. \n",
        "Confirm the results of the following coding region.\n",
        "\n",
        "```\n",
        "str_1 = 'snowman'\n",
        "list_1 = list(str_1) # \n",
        "print(list_1)\n",
        "\n",
        "str_2 = '16/Aug/2564'\n",
        "list_2 = str2.split('/')\n",
        "print(list_2)\n",
        "\n",
        "str_3 = 'a,b,,c,d,,e'\n",
        "list_3_1 = str_3.split(',')\n",
        "print(list_3_1)\n",
        "list_3_2 = str_3.split(',,')\n",
        "print(list_3_2)\n",
        "```"
      ]
    },
    {
      "cell_type": "code",
      "metadata": {
        "id": "H5hVkoETLCjg"
      },
      "source": [
        "str_1 = 'snowman'\n",
        "list_1 = list(str_1) # split the string for each character\n",
        "print(list_1)\n",
        " \n",
        "str_2 = '16/Aug/2564'\n",
        "list_2 = str_2.split('/') # split a stirng into substrings by '/'\n",
        "print(list_2)\n",
        " \n",
        "str_3 = 'a,b,,c,d,,e'\n",
        "list_3_1 = str_3.split(',')  # token: comma (used in CSV(Comma Separated Value) format)\n",
        "print(list_3_1)              # the result includes empty substrings \n",
        "list_3_2 = str_3.split(',,') # token: two consecutive commas\n",
        "print(list_3_2)"
      ],
      "execution_count": null,
      "outputs": []
    },
    {
      "cell_type": "markdown",
      "metadata": {
        "id": "2hlCZCt-PWC-"
      },
      "source": [
        "### indexing and slicing\n",
        "\n",
        "You can access a list or a tuple using \"slicing\" like a string.\n",
        "\n",
        "```\n",
        "month_3 = [\"Jan\", \"Feb\", \"Mar\", \"Apr\", \"May\", \"Jun\", \"Jul\", \"Aug\", \"Sep\", \"Oct\", \"Nov\", \"Dec\"]\n",
        "\n",
        "print(month_3[1])        # 'Feb'\n",
        "print(month_3[2:4])      # ['Mar', 'Apr']\n",
        "print(month_3[1:11:3])   # ['Feb', 'May', 'Aug', 'Nov']\n",
        "print(month_3[-1:-3:-1]) # ['Dec', 'Nov']\n",
        "```\n"
      ]
    },
    {
      "cell_type": "code",
      "metadata": {
        "id": "PBduKFWSRYhf"
      },
      "source": [
        "month_3 = [\"Jan\", \"Feb\", \"Mar\", \"Apr\", \"May\", \"Jun\", \"Jul\", \"Aug\", \"Sep\", \"Oct\", \"Nov\", \"Dec\"]\n",
        "\n",
        "print(month_3[1])        # 'Feb'\n",
        "print(month_3[2:4])      # ['Mar', 'Apr']\n",
        "print(month_3[1:11:3])   # ['Feb', 'May', 'Aug', 'Nov']\n",
        "print(month_3[-1:-4:-1]) # ['Dec', 'Nov', 'Oct']"
      ],
      "execution_count": null,
      "outputs": []
    },
    {
      "cell_type": "markdown",
      "metadata": {
        "id": "mNx4MzUr5uIS"
      },
      "source": [
        "### Practice (In the class)\n",
        "\n",
        "Please look at the array \"month_3\" in the above example, How do you get the elements by indexing or slicing? You can use the coding region below.\n",
        "\n",
        "1. `'Nov'`\n",
        "2. `['Oct', 'Nov']`\n",
        "3. `['Apr', 'Jun', 'Aug']`\n",
        "4. `['Oct', 'Aug', 'Jun']`"
      ]
    },
    {
      "cell_type": "code",
      "metadata": {
        "id": "4x1JiLoH6qla"
      },
      "source": [
        "month_3 = [\"Jan\", \"Feb\", \"Mar\", \"Apr\", \"May\", \"Jun\", \"Jul\", \"Aug\", \"Sep\", \"Oct\", \"Nov\", \"Dec\"]\n"
      ],
      "execution_count": null,
      "outputs": []
    },
    {
      "cell_type": "markdown",
      "metadata": {
        "id": "O2MP9MvX5Kcb"
      },
      "source": [
        "### multi-dimensional list\n",
        "\n",
        "You can construct a multi-dimensional list. This example is for 2-dimensions.\n",
        "For 2D cases, you can specify a element by the notation of \"an_array[row][column]\"\n",
        "\n",
        "```\n",
        "plane = [[1, 2, 3], [4, 5, 6], [7, 8, 9]] # this is a 3x3 matrix\n",
        "\n",
        "print(plane)        # whole list\n",
        "print(plane[1])     \n",
        "print(plane[0][1])  # pick up the element\n",
        "print(plane[2][3])  # 3: out of index (error)\n",
        "\n",
        "plane[2][0] = 100   # you can substitute directly\n",
        "print(plane)\n",
        "\n",
        "plane[1] = [9, 99, 999, 9999]   # you can substitute directly\n",
        "print(plane)\n",
        "\n",
        "```\n",
        "\n"
      ]
    },
    {
      "cell_type": "code",
      "metadata": {
        "id": "_TshbeY-7_HY"
      },
      "source": [
        "plane = [[1, 2, 3], [4, 5, 6], [7, 8, 9]] # this is a 3x3 matrix\n",
        "\n",
        "print(plane) \n",
        "print(plane[1])\n",
        "print(plane[0][1])\n",
        "print(plane[2][1])\n",
        "\n",
        "plane[2][0] = 100\n",
        "print(plane)\n",
        "\n",
        "plane[1] = [9, 99, 999, 9999]  # you can replace the row with different length of an array\n",
        "print(plane)\n"
      ],
      "execution_count": null,
      "outputs": []
    },
    {
      "cell_type": "markdown",
      "metadata": {
        "id": "e2Y6v0nPE8wk"
      },
      "source": [
        "### Practice (In the class)\n",
        "\n",
        "We want to change the elements of an array.\n",
        "The before and after changes are as follows:\n",
        "\n",
        "- before: `plane = [[1, 2, 3], [4, 5, 6], [7, 8, 9]]`\n",
        "- after: `plane = [[1, 2, 11], [4, 12, 6], [7, 8, 10]]`\n",
        "\n",
        "Change the element in the array `plane` by the following way.\n",
        "1. substitute the element directly by using `plane[r][c]=....`\n",
        "2. replace lists in the rows by using `plane[r]=....`\n",
        "\n",
        "\n"
      ]
    },
    {
      "cell_type": "markdown",
      "metadata": {
        "id": "AdkdPf3hFgYp"
      },
      "source": [
        "Substitute the element directly:"
      ]
    },
    {
      "cell_type": "code",
      "metadata": {
        "id": "dD78ptwqFFAr"
      },
      "source": [
        "plane = [[1, 2, 3], [4, 5, 6], [7, 8, 9]]\n",
        "\n",
        "# please fill below. Use the notation of only plane[r][c] = ....\n"
      ],
      "execution_count": null,
      "outputs": []
    },
    {
      "cell_type": "markdown",
      "metadata": {
        "id": "X3qp43kCFjin"
      },
      "source": [
        "Replace lists in the rows:"
      ]
    },
    {
      "cell_type": "code",
      "metadata": {
        "id": "Q8ptvHZxQ1Rb"
      },
      "source": [
        "plane = [[1, 2, 3], [4, 5, 6], [7, 8, 9]]\n",
        "\n",
        "# please fill below. Use the notation of only plane[r] = ....\n"
      ],
      "execution_count": null,
      "outputs": []
    }
  ]
}