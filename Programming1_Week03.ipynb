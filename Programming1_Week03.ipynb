{
  "nbformat": 4,
  "nbformat_minor": 0,
  "metadata": {
    "colab": {
      "name": "Programming1_Week03.ipynb",
      "provenance": [],
      "collapsed_sections": [],
      "toc_visible": true,
      "include_colab_link": true
    },
    "kernelspec": {
      "display_name": "Python 3",
      "language": "python",
      "name": "python3"
    },
    "language_info": {
      "codemirror_mode": {
        "name": "ipython",
        "version": 3
      },
      "file_extension": ".py",
      "mimetype": "text/x-python",
      "name": "python",
      "nbconvert_exporter": "python",
      "pygments_lexer": "ipython3",
      "version": "3.8.5"
    }
  },
  "cells": [
    {
      "cell_type": "markdown",
      "metadata": {
        "id": "view-in-github",
        "colab_type": "text"
      },
      "source": [
        "<a href=\"https://colab.research.google.com/github/doi-shigeo/KMITL-CE-Programming1/blob/main/Programming1_Week03.ipynb\" target=\"_parent\"><img src=\"https://colab.research.google.com/assets/colab-badge.svg\" alt=\"Open In Colab\"/></a>"
      ]
    },
    {
      "cell_type": "markdown",
      "metadata": {
        "id": "BWP1sC5q_XlY"
      },
      "source": [
        "# 3rd Week\n",
        "\n",
        "Please copy the file into your Google Drive and rename it.\n",
        "Example: \"99Shigeo_Programming1_Week03.ipynb\"\n"
      ]
    },
    {
      "cell_type": "markdown",
      "metadata": {
        "id": "FXTLAp-DG-bA"
      },
      "source": [
        "## 1st Work"
      ]
    },
    {
      "cell_type": "markdown",
      "metadata": {
        "id": "TFFxnWwGTToz"
      },
      "source": [
        "### Arithmetic Operations\n",
        "\n",
        "You can calculate the following operators for an integer or a float:\n",
        "```\n",
        "+ : Addition \n",
        "- : Subtraction  \n",
        "* : Multiplication  \n",
        "/ : Division (the result will be a real number (float))  \n",
        "% : Modulo (the result will be an integer) \n",
        "// : Floor Division  (the result will be an integer)\n",
        "** : Exponentation  \n",
        "```\n",
        "\n",
        "You can use variables and constants to calculate.\n",
        "\n",
        "For example, In case you want to calculate `3 * y`, where y is a variable, you can write a Program A.  \n",
        "```\n",
        "y = 100   # a numerical value\n",
        "print(y)\n",
        "y = 3 * y # multiplication \n",
        "print(y)\n",
        "```\n",
        "\n",
        "For example, In case you want to calculate `x + y`, you can use Program A or Program B.  \n",
        "\n",
        "Program A:\n",
        "```\n",
        "x = 3\n",
        "y = 4\n",
        "print(x + y)\n",
        "print(type(x+y))\n",
        "```\n",
        "\n",
        "Program B:\n",
        "```\n",
        "x = 3\n",
        "y = 4\n",
        "z = x + y\n",
        "print(z)\n",
        "print(type(z))\n",
        "```\n",
        "You can write the expression directly in print() like Program A.\n",
        "\n",
        "Moreover, you calculate the expression and substitute its result into a variable like Program B.\n"
      ]
    },
    {
      "cell_type": "code",
      "metadata": {
        "id": "2fmRGDNZdC4_"
      },
      "source": [
        ""
      ],
      "execution_count": null,
      "outputs": []
    },
    {
      "cell_type": "markdown",
      "metadata": {
        "id": "jQ00hhHZdT44"
      },
      "source": [
        "Sometimes you can use a short form described below.\n",
        "These statements are commonly used in other languages.\n",
        "```\n",
        "x += 4        # same as x = x + 4 \n",
        "y -= 1        # same as y = y - 1\n",
        "z *= 1.5      # same as z = z * 1.5\n",
        "w /= 3        # same as w = w / 3\n",
        "v %= 4        # same as v = v % 4\n",
        "u // = 5      # same as u = u // 5\n",
        "t ** = 2      # same as t = t ** 2\n",
        "```\n"
      ]
    },
    {
      "cell_type": "markdown",
      "metadata": {
        "id": "-utnKDFZTjLU"
      },
      "source": [
        "### Work\n",
        "Please make a program satisfying the following specifications:\n",
        "\n",
        "1. Substitute 5 of an **integer number** into the variable named x .\n",
        "2. Substitute 3 of an **integer number** into the variable named y .\n",
        "3. Calculate and print the following expression: `x+y`, `x-y`, `x*y`, `x/y`, `x%y`, `x//y` and `x**y`, using `print()` function."
      ]
    },
    {
      "cell_type": "code",
      "metadata": {
        "id": "Jfs_ZpNZa9Y2"
      },
      "source": [
        "x = 5\n",
        "y = 3"
      ],
      "execution_count": null,
      "outputs": []
    },
    {
      "cell_type": "markdown",
      "metadata": {
        "id": "RKX9vMQpa-Fk"
      },
      "source": [
        "## Data Type Conversion\n",
        "\n",
        "Objective: You'll understand the concept of **implicit 'cast'**. Cast means that Python interpreter automatically uses the appropriate data type. \n",
        "\n",
        "### Cast (convert a data type into a different type implicitly)\n",
        "Please make a program satisfying the following specifications:\n",
        "1. Substitute 5 of an **integer number** into the variable named `x` .\n",
        "2. Substitute 3.0 of a **real number** into the variable named `y` .\n",
        "3. Calculate and print `x+y`, `x-y`, `x*y`, `x/y`, `x%y`, `x//y` and `x**y`, using `print()` function.\n",
        "4. Print data type of the results of arithmetic operations in 3.\n",
        "5.Calculate and print `y+x`, `y-x`, `y*x`, `y/x`, `y%x`, `y//x` and `y**x`, using `print()` function.\n",
        "6. Print data type of the results of arithmetic operations in 5.\n",
        "\n",
        "What types are printed in your result?"
      ]
    },
    {
      "cell_type": "code",
      "metadata": {
        "id": "2_zCxMf4P8nE"
      },
      "source": [
        "x = 5\n",
        "y = 3.0\n"
      ],
      "execution_count": null,
      "outputs": []
    },
    {
      "cell_type": "markdown",
      "metadata": {
        "id": "ZBIg50PyP9NP"
      },
      "source": [
        "### Cast (convert a data type into a different type explicitly)\n",
        "You can cast the data types explicitly **if possible**.\n",
        "\n",
        "`y = float(x)`: the data type of `y` is `float`.  \n",
        "`y = int(x)`: the data type of `y` is `int`.  \n",
        "`y = str(x)`: the data type of `y` is `str`.  \n",
        "\n",
        "if `x` can't be converted into desired data type, Python generates an error. \n",
        "\n",
        "Please make a program satisfying the following specifications:\n",
        "1. Let me assume that the data type `x` is `int`, that of `y` is `float` and that of `z` is `str`.\n",
        "For example, `x = 4`, `y = 4.5` and `z = '5'`\n",
        "2. Calculate the following expressions and and print the result of them:\n",
        "  * `x + z`\n",
        "  * `x - z`\n",
        "  * `x * z`\n",
        "  * `x / z`\n",
        "  * `x // z`\n",
        "  * `x % z`\n",
        "  * `y + z`\n",
        "  * `y - z`\n",
        "  * `y * z`\n",
        "  * `y / z`\n",
        "  * `y // z`\n",
        "  * `y % z`\n",
        "\n"
      ]
    },
    {
      "cell_type": "code",
      "metadata": {
        "id": "q6Q5QPmjF1KA"
      },
      "source": [
        "x = 4\n",
        "y = 4.5\n",
        "z = '5'"
      ],
      "execution_count": null,
      "outputs": []
    },
    {
      "cell_type": "markdown",
      "metadata": {
        "id": "QdC_9YfywlE2"
      },
      "source": [
        "## User input\n",
        "When you accept user input, You can use `input()` function.\n",
        "```\n",
        "str = input(\"Message: \")\n",
        "```\n",
        "`str` is stored user input as a \"string\", if you want to use the variable `str` as a number, please use either `int()` function or `float()` function to cast. "
      ]
    },
    {
      "cell_type": "code",
      "metadata": {
        "id": "hpRatG5Zx77p"
      },
      "source": [
        "str = input(\"Message: \")\n",
        "print(str)"
      ],
      "execution_count": null,
      "outputs": []
    },
    {
      "cell_type": "code",
      "metadata": {
        "id": "VlQi5ea8w2Bg"
      },
      "source": [
        "str_num = input(\"Input a number: \")\n",
        "num = int(str_num) # convert str_num to integer. if Python can't convert it to integer, it causes a runtime error.\n",
        "print(num)"
      ],
      "execution_count": null,
      "outputs": []
    },
    {
      "cell_type": "code",
      "metadata": {
        "id": "nicg-EJJ1qUl"
      },
      "source": [
        "str_f = input(\"Input a number: \")\n",
        "f = float(str_f) # convert str_num to integer. if Python can't convert it to integer, it causes a runtime error.\n",
        "print(f)"
      ],
      "execution_count": null,
      "outputs": []
    },
    {
      "cell_type": "markdown",
      "metadata": {
        "id": "0s_l4Dkw1iU6"
      },
      "source": [
        "## Practice: Calculate the area of a square\n",
        "\n",
        "Please make a program to satisfy the following:\n",
        "1. First, a user inputs the length of edges of a square. \n",
        "2. Then, calculate the area of the square.\n",
        "3. Finally, print the area of square.\n",
        "\n",
        "In the figure below, *a* is the length of edges of the square.\n",
        "So, the area of the square is *a* times *a*. \n",
        "\n",
        "![asq.png](data:image/png;base64,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) \n",
        "\n"
      ]
    },
    {
      "cell_type": "code",
      "metadata": {
        "id": "yZ-uW9-O3SYX",
        "outputId": "aa3dd468-61f2-4727-ed6c-fc822d10aea0",
        "colab": {
          "base_uri": "https://localhost:8080/"
        }
      },
      "source": [
        "\n"
      ],
      "execution_count": 13,
      "outputs": [
        {
          "output_type": "stream",
          "text": [
            "Sample of execution\n",
            "Length of edges of a square: 1.8\n",
            "3.24\n"
          ],
          "name": "stdout"
        }
      ]
    },
    {
      "cell_type": "markdown",
      "metadata": {
        "id": "jUQ41Dn5mwhQ"
      },
      "source": [
        "## An advanced application: A RSA cryptosystem example)\n",
        "\n",
        "Please make the program with the following procedure.\n",
        "1. Substitute 5 of an integer number into the variable named `e` (hint: this means \"e = 5\").\n",
        "2. Substitute 13 of an integer number into the variable named `p`.\n",
        "3. Substitute 3 of an integer number into the variable named `q`.\n",
        "4. Substitute 5 of an integer number into the variable named `d`.\n",
        "   (`d` is set to satisfy the following condition: (`d` * `e`) % ((`p`-1) * (`q`-1)) = 1\n",
        "5. Calculate `N` = `p` * `q` (in this area, N= 39)\n",
        "5. You can set `C` of integer number and the range of `C` is from 1 to 38 (=`N`-1). You can get user input (please remember to cast it into integer).\n",
        "6. Calculate `M` = (`C` ** `e`) % `N`\n",
        "7. Calculate `D` = (`M` ** `d`) % `N`\n",
        "\n",
        "What results of D will you get? Let's try different C and compare C to D.\n",
        "\n",
        "Note: e, p, q are prime numbers, which means that it can be divided by one and itself.  \n",
        "Further Learning: e, N are **public keys**, whereas d, p, q are **secret keys**.\n",
        "\n",
        "The process to calculate M is **encryption** and the process to calculate D is **decryption** in the RSA cryptosystem.\n",
        "\n"
      ]
    },
    {
      "cell_type": "code",
      "metadata": {
        "id": "hd3Oeuf5mDHW"
      },
      "source": [
        ""
      ],
      "execution_count": null,
      "outputs": []
    }
  ]
}