{
  "nbformat": 4,
  "nbformat_minor": 0,
  "metadata": {
    "colab": {
      "name": "Programming1_Week03.ipynb",
      "provenance": [],
      "collapsed_sections": [],
      "toc_visible": true,
      "include_colab_link": true
    },
    "kernelspec": {
      "display_name": "Python 3",
      "language": "python",
      "name": "python3"
    },
    "language_info": {
      "codemirror_mode": {
        "name": "ipython",
        "version": 3
      },
      "file_extension": ".py",
      "mimetype": "text/x-python",
      "name": "python",
      "nbconvert_exporter": "python",
      "pygments_lexer": "ipython3",
      "version": "3.8.5"
    }
  },
  "cells": [
    {
      "cell_type": "markdown",
      "metadata": {
        "id": "view-in-github",
        "colab_type": "text"
      },
      "source": [
        "<a href=\"https://colab.research.google.com/github/doi-shigeo/KMITL-CE-Programming1/blob/main/Programming1_Week03.ipynb\" target=\"_parent\"><img src=\"https://colab.research.google.com/assets/colab-badge.svg\" alt=\"Open In Colab\"/></a>"
      ]
    },
    {
      "cell_type": "markdown",
      "metadata": {
        "id": "BWP1sC5q_XlY"
      },
      "source": [
        "# 3rd Week\n",
        "\n",
        "Please copy the file into your Google Drive and rename it.\n",
        "Example: \"99Shigeo_Programming1_Week03.ipynb\"\n"
      ]
    },
    {
      "cell_type": "markdown",
      "metadata": {
        "id": "FXTLAp-DG-bA"
      },
      "source": [
        "## 1st Work"
      ]
    },
    {
      "cell_type": "markdown",
      "metadata": {
        "id": "TFFxnWwGTToz"
      },
      "source": [
        "### Arithmetic Operations\n",
        "\n",
        "You can calculate the following operators for an integer or a float:\n",
        "```\n",
        "+ : Addition \n",
        "- : Subtraction  \n",
        "* : Multiplication  \n",
        "/ : Division (the result will be a real number (float))  \n",
        "% : Modulo (the result will be an integer) \n",
        "// : Floor Division  (the result will be an integer)\n",
        "** : Exponentation  \n",
        "```\n",
        "\n",
        "You can use variables and constants to calculate.\n",
        "\n",
        "For example, In case you want to calculate `3 * y`, where y is a variable, you can write a Program A.  \n",
        "```\n",
        "y = 100   # a numerical value\n",
        "print(y)\n",
        "y = 3 * y # multiplication \n",
        "print(y)\n",
        "```\n",
        "\n",
        "For example, In case you want to calculate `x + y`, you can use Program A or Program B.  \n",
        "\n",
        "Program A:\n",
        "```\n",
        "x = 3\n",
        "y = 4\n",
        "print(x + y)\n",
        "print(type(x+y))\n",
        "```\n",
        "\n",
        "Program B:\n",
        "```\n",
        "x = 3\n",
        "y = 4\n",
        "z = x + y\n",
        "print(z)\n",
        "print(type(z))\n",
        "```\n",
        "You can write the expression directly in print() like Program A.\n",
        "\n",
        "Moreover, you calculate the expression and substitute its result into a variable like Program B.\n"
      ]
    },
    {
      "cell_type": "code",
      "metadata": {
        "id": "2fmRGDNZdC4_"
      },
      "source": [
        ""
      ],
      "execution_count": null,
      "outputs": []
    },
    {
      "cell_type": "markdown",
      "metadata": {
        "id": "jQ00hhHZdT44"
      },
      "source": [
        "Sometimes you can use a short form described below.\n",
        "These statements are commonly used in other languages.\n",
        "```\n",
        "x += 4        # same as x = x + 4 \n",
        "y -= 1        # same as y = y - 1\n",
        "z *= 1.5      # same as z = z * 1.5\n",
        "w /= 3        # same as w = w / 3\n",
        "v %= 4        # same as v = v % 4\n",
        "u // = 5      # same as u = u // 5\n",
        "t ** = 2      # same as t = t ** 2\n",
        "```\n"
      ]
    },
    {
      "cell_type": "markdown",
      "metadata": {
        "id": "-utnKDFZTjLU"
      },
      "source": [
        "### Work\n",
        "Please make a program satisfying the following specifications:\n",
        "\n",
        "1. Substitute 5 of an **integer number** into the variable named x .\n",
        "2. Substitute 3 of an **integer number** into the variable named y .\n",
        "3. Calculate and print the following expression: `x+y`, `x-y`, `x*y`, `x/y`, `x%y`, `x//y` and `x**y`, using `print()` function."
      ]
    },
    {
      "cell_type": "code",
      "metadata": {
        "id": "Jfs_ZpNZa9Y2"
      },
      "source": [
        ""
      ],
      "execution_count": null,
      "outputs": []
    },
    {
      "cell_type": "markdown",
      "metadata": {
        "id": "RKX9vMQpa-Fk"
      },
      "source": [
        "## Data Type Conversion\n",
        "\n",
        "Objective: You'll understand the concept of **implicit 'cast'**. Cast means that Python interpreter automatically uses the appropriate data type. \n",
        "\n",
        "### Cast (convert a data type into a different type implicitly)\n",
        "Please make a program satisfying the following specifications:\n",
        "1. Substitute 5 of an **integer number** into the variable named `x` .\n",
        "2. Substitute 3.0 of a **real number** into the variable named `y` .\n",
        "3. Calculate and print `x+y`, `x-y`, `x*y`, `x/y`, `x%y`, `x//y` and `x**y`, using `print()` function.\n",
        "4. Print data type of the results of arithmetic operations in 3.\n",
        "5.Calculate and print `y+x`, `y-x`, `y*x`, `y/x`, `y%x`, `y//x` and `y**x`, using `print()` function.\n",
        "6. Print data type of the results of arithmetic operations in 5.\n",
        "\n",
        "What types are printed in your result?"
      ]
    },
    {
      "cell_type": "code",
      "metadata": {
        "id": "2_zCxMf4P8nE"
      },
      "source": [
        "x = 5\n",
        "y = 3.0\n"
      ],
      "execution_count": null,
      "outputs": []
    },
    {
      "cell_type": "markdown",
      "metadata": {
        "id": "ZBIg50PyP9NP"
      },
      "source": [
        "### Cast (convert a data type into a different type explicitly)\n",
        "You can cast the data types explicitly **if possible**.\n",
        "\n",
        "`y = float(x)`: the data type of `y` is `float`.  \n",
        "`y = int(x)`: the data type of `y` is `int`.  \n",
        "`y = str(x)`: the data type of `y` is `str`.  \n",
        "\n",
        "if `x` can't be converted into desired data type, Python generates an error. \n",
        "\n",
        "Please make a program satisfying the following specifications:\n",
        "1. Let me assume that the data type `x` is `int`, that of `y` is `float` and that of `z` is `str`.\n",
        "For example, `x = 4`, `y = 4.5` and `z = '5'`\n",
        "2. Calculate the following expressions and and print the result of them:\n",
        "  * `x + z`\n",
        "  * `x - z`\n",
        "  * `x * z`\n",
        "  * `x / z`\n",
        "  * `x // z`\n",
        "  * `x % z`\n",
        "  * `y + z`\n",
        "  * `y - z`\n",
        "  * `y * z`\n",
        "  * `y / z`\n",
        "  * `y // z`\n",
        "  * `y % z`\n",
        "\n"
      ]
    },
    {
      "cell_type": "code",
      "metadata": {
        "id": "q6Q5QPmjF1KA"
      },
      "source": [
        "x = 4\n",
        "y = 4.5\n",
        "z = '5'"
      ],
      "execution_count": null,
      "outputs": []
    },
    {
      "cell_type": "markdown",
      "metadata": {
        "id": "jUQ41Dn5mwhQ"
      },
      "source": [
        "## An Application: A RSA cryptosystem example)\n",
        "\n",
        "Please make the program with the following procedure.\n",
        "1. Substitute 5 of an integer number into the variable named `e` (hint: this means \"e = 5\").\n",
        "2. Substitute 13 of an integer number into the variable named `p`.\n",
        "3. Substitute 3 of an integer number into the variable named `q`.\n",
        "4. Substitute 5 of an integer number into the variable named `d`.\n",
        "   (`d` is set to satisfy the following condition: (`d` * `e`) % ((`p`-1) * (`q`-1)) = 1\n",
        "5. Calculate `N` = `p` * `q` (in this area, N= 39)\n",
        "5. You can set `C` of integer number and the range of `C` is from 1 to (`N`-1 = 38).\n",
        "6. Calculate `M` = (`C` ** `e`) % `N`\n",
        "7. Calculate `D` = (`M` ** `d`) % `N`\n",
        "\n",
        "What results of D will you get? Let's try different C and compare C to D.\n",
        "\n",
        "Note: e, p, q are prime numbers, which means that it can be divided by one and itself.  \n",
        "Further Learning: e, N are **public keys**, whereas d, p, q are **secret keys**.\n",
        "\n",
        "The process to calculate M is **encryption** and the process to calculate D is **decryption** in the RSA cryptosystem.\n",
        "\n"
      ]
    },
    {
      "cell_type": "code",
      "metadata": {
        "id": "hd3Oeuf5mDHW"
      },
      "source": [
        ""
      ],
      "execution_count": null,
      "outputs": []
    }
  ]
}